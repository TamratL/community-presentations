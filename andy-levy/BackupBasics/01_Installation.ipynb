{
    "cells": [
        {
            "cell_type": "markdown",
            "metadata": {},
            "source": [
                "# Installation & Maintenance\n",
                "\n",
                "## Trust the Powershell Gallery"
            ]
        },
        {
            "cell_type": "code",
            "execution_count": null,
            "metadata": {
                "azdata_cell_guid": "b3351bd0-37be-4e31-a40d-6f32febced0f",
                "extensions": {
                    "azuredatastudio": {
                        "views": []
                    }
                },
                "tags": [
                    "hide_input"
                ]
            },
            "outputs": [],
            "source": [
                "Set-PSRepository -Name PSGallery -InstallationPolicy Trusted -Verbose;"
            ]
        },
        {
            "attachments": {},
            "cell_type": "markdown",
            "metadata": {
                "azdata_cell_guid": "35d8cfc9-db34-4c6c-90e0-fbea084fe228"
            },
            "source": [
                "## Is `dbatools` installed?"
            ]
        },
        {
            "cell_type": "code",
            "execution_count": null,
            "metadata": {
                "azdata_cell_guid": "ddf36592-f0cb-496d-a763-9c4d1d99734f",
                "tags": [
                    "hide_input"
                ]
            },
            "outputs": [],
            "source": [
                " Get-Module -ListAvailable dbatools;"
            ]
        },
        {
            "attachments": {},
            "cell_type": "markdown",
            "metadata": {
                "azdata_cell_guid": "ad8b32c5-a4e2-4682-a208-5207d04d4610",
                "extensions": {
                    "azuredatastudio": {
                        "views": []
                    }
                }
            },
            "source": [
                "## Install or Update"
            ]
        },
        {
            "cell_type": "code",
            "execution_count": null,
            "metadata": {
                "azdata_cell_guid": "fab94d59-3a61-473b-bbf7-5235e4199d1a",
                "extensions": {
                    "azuredatastudio": {
                        "views": []
                    }
                },
                "tags": [
                    "hide_input"
                ]
            },
            "outputs": [],
            "source": [
                "if (Get-Module -ListAvailable -Name dbatools) {\n",
                "    Update-Module -Name dbatools;\n",
                "}\n",
                "else {\n",
                "    Install-Module -Name dbatools -Scope CurrentUser;\n",
                "}"
            ]
        }
    ],
    "metadata": {
        "extensions": {
            "azuredatastudio": {
                "version": 1,
                "views": []
            }
        },
        "kernelspec": {
            "display_name": "PowerShell",
            "language": "powershell",
            "name": "powershell"
        },
        "language_info": {
            "codemirror_mode": "shell",
            "file_extension": ".ps1",
            "mimetype": "text/x-sh",
            "name": "powershell"
        }
    },
    "nbformat": 4,
    "nbformat_minor": 2
}
