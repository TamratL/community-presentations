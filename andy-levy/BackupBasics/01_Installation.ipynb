{
    "metadata": {
        "kernelspec": {
            "name": "powershell",
            "display_name": "PowerShell",
            "language": "powershell"
        },
        "language_info": {
            "name": "powershell",
            "codemirror_mode": "shell",
            "mimetype": "text/x-sh",
            "file_extension": ".ps1"
        }
    },
    "nbformat_minor": 2,
    "nbformat": 4,
    "cells": [
        {
            "cell_type": "markdown",
            "source": [
                "# Installation & Maintenance\n",
                "\n",
                "## Trust the Powershell Gallery"
            ],
            "metadata": {
                "azdata_cell_guid": "1f14718d-6d75-49b6-b7ca-644841214c6b"
            },
            "attachments": {}
        },
        {
            "cell_type": "code",
            "source": [
                "Set-PSRepository -name PSGallery -InstallationPolicy Trusted"
            ],
            "metadata": {
                "azdata_cell_guid": "b3351bd0-37be-4e31-a40d-6f32febced0f"
            },
            "outputs": [],
            "execution_count": null
        },
        {
            "cell_type": "markdown",
            "source": [
                "## Install or Update"
            ],
            "metadata": {
                "azdata_cell_guid": "ad8b32c5-a4e2-4682-a208-5207d04d4610"
            },
            "attachments": {}
        },
        {
            "cell_type": "code",
            "source": [
                "if (Get-Module -ListAvailable -Name dbatools) {\n",
                "    Update-Module -Name dbatools;\n",
                "}\n",
                "else {\n",
                "    Install-Module -Name dbatools -Scope CurrentUser;\n",
                "}"
            ],
            "metadata": {
                "azdata_cell_guid": "fab94d59-3a61-473b-bbf7-5235e4199d1a"
            },
            "outputs": [],
            "execution_count": null
        }
    ]
}