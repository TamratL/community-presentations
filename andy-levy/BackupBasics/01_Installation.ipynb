{
    "metadata": {
        "kernelspec": {
            "name": "powershell",
            "display_name": "PowerShell",
            "language": "powershell"
        },
        "language_info": {
            "name": "powershell",
            "codemirror_mode": "shell",
            "mimetype": "text/x-sh",
            "file_extension": ".ps1"
        },
        "extensions": {
            "azuredatastudio": {
                "version": 1,
                "views": []
            }
        }
    },
    "nbformat_minor": 2,
    "nbformat": 4,
    "cells": [
        {
            "cell_type": "markdown",
            "source": [
                "# Installation & Maintenance\n",
                "\n",
                "## Trust the Powershell Gallery"
            ],
            "metadata": {
                "azdata_cell_guid": "1f14718d-6d75-49b6-b7ca-644841214c6b",
                "extensions": {
                    "azuredatastudio": {
                        "views": []
                    }
                }
            },
            "attachments": {}
        },
        {
            "cell_type": "code",
            "source": [
                "Set-PSRepository -Name PSGallery -InstallationPolicy Trusted"
            ],
            "metadata": {
                "azdata_cell_guid": "b3351bd0-37be-4e31-a40d-6f32febced0f",
                "extensions": {
                    "azuredatastudio": {
                        "views": []
                    }
                },
                "tags": [
                    "hide_input"
                ]
            },
            "outputs": [],
            "execution_count": null
        },
        {
            "cell_type": "markdown",
            "source": [
                "## Is `dbatools` installed?"
            ],
            "metadata": {
                "azdata_cell_guid": "35d8cfc9-db34-4c6c-90e0-fbea084fe228"
            },
            "attachments": {}
        },
        {
            "cell_type": "code",
            "source": [
                "Get-Module -ListAvailable dbatools;"
            ],
            "metadata": {
                "azdata_cell_guid": "ddf36592-f0cb-496d-a763-9c4d1d99734f",
                "tags": [
                    "hide_input"
                ]
            },
            "outputs": [],
            "execution_count": null
        },
        {
            "cell_type": "markdown",
            "source": [
                "## Install or Update"
            ],
            "metadata": {
                "azdata_cell_guid": "ad8b32c5-a4e2-4682-a208-5207d04d4610",
                "extensions": {
                    "azuredatastudio": {
                        "views": []
                    }
                }
            },
            "attachments": {}
        },
        {
            "cell_type": "code",
            "source": [
                "if (Get-Module -ListAvailable -Name dbatools) {\n",
                "    Update-Module -Name dbatools;\n",
                "}\n",
                "else {\n",
                "    Install-Module -Name dbatools -Scope CurrentUser;\n",
                "}"
            ],
            "metadata": {
                "azdata_cell_guid": "fab94d59-3a61-473b-bbf7-5235e4199d1a",
                "extensions": {
                    "azuredatastudio": {
                        "views": []
                    }
                },
                "tags": [
                    "hide_input"
                ]
            },
            "outputs": [],
            "execution_count": null
        }
    ]
}