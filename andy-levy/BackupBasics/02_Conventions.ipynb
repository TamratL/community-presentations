{
    "metadata": {
        "kernelspec": {
            "name": "powershell",
            "display_name": "PowerShell",
            "language": "powershell"
        },
        "language_info": {
            "name": "powershell",
            "codemirror_mode": "shell",
            "mimetype": "text/x-sh",
            "file_extension": ".ps1"
        }
    },
    "nbformat_minor": 2,
    "nbformat": 4,
    "cells": [
        {
            "cell_type": "markdown",
            "source": [
                "# Conventions\n",
                "## Getting Help\n",
                "Every dbatools function has extensive comment-based help accessible via `Get-Help`. This help is also available at https://docs.dbatools.io/\n",
                "\n",
                "`Find-DbaCommand <searchterm>` is your friend! Use this function to locate functions related to what you need to do.\n",
                "\n",
                "\n",
                "## Naming Conventions\n",
                "\n",
                "* dbatools follows standard Powershell function naming conventions\n",
                "  * All dbatools function names follow the convention `Verb-DbaNoun`\n",
                "  * Most `Get`s have a corresponding `Set`\n",
                "* Functions with `Db` in their name _usually_ want to operate on the database level, not the whole instance.\n",
                "\n",
                "## Splatting\n",
                "\n",
                "Variable splatting is a method in Powershell where we can pass a collection of parameters to a function. This makes it easier to:\n",
                "  * Read without scrolling horizontally\n",
                "  * Dynamically change the parameter list passed to a function\n",
                "For more information, see [`get-help about_splatting`](https://docs.microsoft.com/en-us/powershell/module/microsoft.powershell.core/about/about_splatting?view=powershell-7.1)\n",
                "\n",
                "When using splatting with switch parameters, you must explicitly state `$true` or `$false` for the switch value. For example, `-Verbose` becomes `Verbose = $true;`\n",
                "## Global Variables"
            ],
            "metadata": {
                "azdata_cell_guid": "3a4c3706-45d8-43b2-8a7f-b33ee26cd677"
            },
            "attachments": {}
        },
        {
            "cell_type": "code",
            "source": [
                "$Sql17 = \"FLEXO\\Sql17\";\n",
                "$Sql19 = \"FLEXO\\Sql19\";"
            ],
            "metadata": {
                "azdata_cell_guid": "239c369b-a8c0-4823-b0e1-bc8d1f0d2966"
            },
            "outputs": [],
            "execution_count": null
        }
    ]
}