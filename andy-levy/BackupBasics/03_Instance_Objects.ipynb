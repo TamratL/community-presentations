{
    "metadata": {
        "kernelspec": {
            "name": "powershell",
            "display_name": "PowerShell",
            "language": "powershell"
        },
        "language_info": {
            "name": "powershell",
            "codemirror_mode": "shell",
            "mimetype": "text/x-sh",
            "file_extension": ".ps1"
        }
    },
    "nbformat_minor": 2,
    "nbformat": 4,
    "cells": [
        {
            "cell_type": "markdown",
            "source": [
                "# Instance-level Objects\n",
                "## Keys & Certificates\n",
                "### Functions Demonstrated\n",
                "* `Backup-DbaServiceMasterKey`\n",
                "* `Backup-DbaDbMasterKey`\n",
                "* `Backup-DbaDbCertificate`\n",
                "\n",
                "### Service Master Key"
            ],
            "metadata": {
                "azdata_cell_guid": "26255bf2-8ea1-4607-8e8c-f2c4dcc86178"
            }
        },
        {
            "cell_type": "code",
            "source": [
                "$KeyBackupPassword = \"MyP@$$w3rd\" | ConvertTo-SecureString -AsPlainText -Force;\n",
                "$KeyBackupParams = @{\n",
                "    SqlInstance = \"FLEXO\\sql17\";\n",
                "    Path        = \"C:\\SQL\\Backup\";\n",
                "    Password    = $KeyBackupPassword;\n",
                "};\n",
                "Backup-DbaServiceMasterKey @KeyBackupParams;"
            ],
            "metadata": {
                "azdata_cell_guid": "7298c9e3-929c-4917-878b-ba46ebbf5fc2",
                "tags": [
                    "hide_input"
                ]
            },
            "outputs": [],
            "execution_count": null
        },
        {
            "cell_type": "markdown",
            "source": [
                "### Database Master Key"
            ],
            "metadata": {
                "azdata_cell_guid": "1a02180a-8985-4d15-b7b5-8c21aaa27fd3"
            }
        },
        {
            "cell_type": "code",
            "source": [
                "$KeyBackupParams += @{\n",
                "    Database = \"master\";\n",
                "};\n",
                "\n",
                "Backup-DbaDbMasterKey @KeyBackupParams;"
            ],
            "metadata": {
                "azdata_cell_guid": "22d0b857-4a8c-4e3e-91b3-bfd9c10183c4",
                "tags": [
                    "hide_input"
                ]
            },
            "outputs": [],
            "execution_count": null
        },
        {
            "cell_type": "markdown",
            "source": [
                "### Certificates"
            ],
            "metadata": {
                "azdata_cell_guid": "8f56327a-ed63-4ead-888d-cc9a50e40366"
            }
        },
        {
            "cell_type": "code",
            "source": [
                "$CertBackupParams = @{\n",
                "    SqlInstance        = \"FLEXO\\sql17\";\n",
                "    Path               = \"C:\\SQL\\Backup\";\n",
                "    EncryptionPassword = \"My0th3rP@ssw0rD\" | ConvertTo-SecureString -AsPlainText -Force;\n",
                "    DecryptionPassword = \"bathrobe.rifleman.resent.demit\" | ConvertTo-SecureString -AsPlainText -Force; # This is the password you set when creating the certificate\n",
                "    Database           = \"master\";\n",
                "    Certificate        = \"TDECert_2021\";\n",
                "};\n",
                "\n",
                "Backup-DbaDbCertificate @CertBackupParams;"
            ],
            "metadata": {
                "azdata_cell_guid": "04efbdb7-5ade-4a71-bfff-7810b07df453",
                "tags": [
                    "hide_input"
                ]
            },
            "outputs": [],
            "execution_count": null
        }
    ]
}