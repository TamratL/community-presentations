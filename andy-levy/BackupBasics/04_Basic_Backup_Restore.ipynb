{
    "metadata": {
        "kernelspec": {
            "name": "powershell",
            "display_name": "PowerShell",
            "language": "powershell"
        },
        "language_info": {
            "name": "powershell",
            "codemirror_mode": "shell",
            "mimetype": "text/x-sh",
            "file_extension": ".ps1"
        },
        "extensions": {
            "azuredatastudio": {
                "version": 1,
                "views": []
            }
        }
    },
    "nbformat_minor": 2,
    "nbformat": 4,
    "cells": [
        {
            "cell_type": "markdown",
            "source": [
                "# Database Backup\n",
                "## Basic Backup\n",
                "### Function Demonstrated\n",
                "* `Backup-DbaDatabase`"
            ],
            "metadata": {
                "azdata_cell_guid": "28e5455a-1517-4bb1-85ea-6e82935f4bec",
                "extensions": {
                    "azuredatastudio": {
                        "views": []
                    }
                }
            }
        },
        {
            "cell_type": "code",
            "source": [
                "$BackupPath = \"C:\\SQL\\Backup\\\";\n",
                "$BackupParams = @{\n",
                "    SqlInstance  = \"FLEXO\\sql17\";\n",
                "    Path         = $BackupPath;\n",
                "    Database     = \"satellites\";\n",
                "    CreateFolder = $true;\n",
                "}\n",
                "$BackupResult = Backup-DbaDatabase @BackupParams;\n",
                "# Save this for later\n",
                "$SingleBackupFile = $BackupResult.BackupPath;"
            ],
            "metadata": {
                "azdata_cell_guid": "19c29566-e438-4600-8ced-7a83cb9277ec",
                "extensions": {
                    "azuredatastudio": {
                        "views": []
                    }
                },
                "tags": [
                    "hide_input"
                ]
            },
            "outputs": [],
            "execution_count": null
        },
        {
            "cell_type": "code",
            "source": [
                "$BackupResult | Format-List -Property *"
            ],
            "metadata": {
                "azdata_cell_guid": "920b6841-2906-4ef3-80ad-5473acfd2c6c",
                "extensions": {
                    "azuredatastudio": {
                        "views": []
                    }
                },
                "tags": [
                    "hide_input"
                ]
            },
            "outputs": [],
            "execution_count": null
        },
        {
            "cell_type": "markdown",
            "source": [
                "## More Advanced\n",
                "\n",
                "- Copy-only\n",
                "- Multiple files\n",
                "- Compression\n",
                "- Checksum & Verify\n",
                "- Custom timestamp format\n",
                "- Adjust `MaxTransferSize` and `BufferCount`\n",
                "\n",
                "See <a href=\"https://sirsql.net/2012/12/13/20121212automated-backup-tuning/\" data-href=\"https://sirsql.net/2012/12/13/20121212automated-backup-tuning/\" title=\"https://sirsql.net/2012/12/13/20121212automated-backup-tuning/\">https://sirsql.net/2012/12/13/20121212automated-backup-tuning/</a> for scripts to test your own backup performance"
            ],
            "metadata": {
                "azdata_cell_guid": "810d62b5-9392-483c-85ef-d4861dd7a8f3",
                "extensions": {
                    "azuredatastudio": {
                        "views": []
                    }
                }
            }
        },
        {
            "cell_type": "code",
            "source": [
                "$BackupParams = @{\n",
                "    SqlInstance     = \"FLEXO\\sql17\";\n",
                "    Path            = $BackupPath;\n",
                "    Database        = \"Satellites\";\n",
                "    CreateFolder    = $true;\n",
                "    CopyOnly        = $true;\n",
                "    Type            = \"Full\";\n",
                "    FileCount       = 4;\n",
                "    CompressBackup  = $true;\n",
                "    Checksum        = $true;\n",
                "    Verify          = $true;\n",
                "    BufferCount     = 1000;\n",
                "    MaxTransfersize = 2 * 1MB;\n",
                "    TimeStampFormat = \"yyyy-MMM-dd HH.mm.ss\";\n",
                "}\n",
                "$BackupResult = Backup-DbaDatabase @BackupParams;"
            ],
            "metadata": {
                "azdata_cell_guid": "a37c1f91-0cfe-45f5-8d1b-9170b8f5c617",
                "extensions": {
                    "azuredatastudio": {
                        "views": []
                    }
                },
                "tags": [
                    "hide_input"
                ]
            },
            "outputs": [],
            "execution_count": null
        },
        {
            "cell_type": "code",
            "source": [
                "$BackupResult | Format-List -Property *;"
            ],
            "metadata": {
                "azdata_cell_guid": "28d0821f-f587-4a6d-a9aa-357119b0f393",
                "extensions": {
                    "azuredatastudio": {
                        "views": []
                    }
                },
                "tags": [
                    "hide_input"
                ]
            },
            "outputs": [],
            "execution_count": null
        },
        {
            "cell_type": "markdown",
            "source": [
                "## What's Being Run?\n",
                "\n",
                "The `-OutputScriptOnly` switch parameter tells `Backup-DbaDatabase` to not perform the backup but instead show the T-SQL to execute the backup."
            ],
            "metadata": {
                "azdata_cell_guid": "08b8c95b-4903-4943-b749-80b341bd3529",
                "extensions": {
                    "azuredatastudio": {
                        "views": []
                    }
                }
            }
        },
        {
            "cell_type": "code",
            "source": [
                "$BackupParams = @{\n",
                "    SqlInstance      = \"FLEXO\\sql17\";\n",
                "    Path             = $BackupPath;\n",
                "    Database         = \"Satellites\";\n",
                "    CreateFolder     = $true;\n",
                "    CopyOnly         = $true;\n",
                "    Type             = \"Full\";\n",
                "    FileCount        = 4;\n",
                "    CompressBackup   = $true;\n",
                "    Checksum         = $true;\n",
                "    Verify           = $true;\n",
                "    BufferCount      = 1000;\n",
                "    MaxTransfersize  = 2 * 1MB;\n",
                "    OutputScriptOnly = $true;\n",
                "}\n",
                "Backup-DbaDatabase @BackupParams;"
            ],
            "metadata": {
                "azdata_cell_guid": "67b77819-b1ad-4acb-81ae-1beefb08682a",
                "extensions": {
                    "azuredatastudio": {
                        "views": []
                    }
                },
                "tags": [
                    "hide_input"
                ]
            },
            "outputs": [],
            "execution_count": null
        },
        {
            "cell_type": "markdown",
            "source": [
                "## Restoring the Latest Backup\n",
                "* The `-Path` parameter specifies a path to search for backups. If multiple backups are found, the most recent one will be used.\n",
                "* `-Database` is the name the database will have when restored, not the original name of the database when it was backed up.\n",
                "\n",
                "### Function Demonstrated\n",
                "* `Restore-DbaDatabase`"
            ],
            "metadata": {
                "azdata_cell_guid": "d069301c-a301-4432-86bc-24f044c24845",
                "extensions": {
                    "azuredatastudio": {
                        "views": []
                    }
                }
            }
        },
        {
            "cell_type": "code",
            "source": [
                "$RestoreParams = @{\n",
                "    SqlInstance = \"FLEXO\\sql19\";\n",
                "    Path        = \"C:\\SQL\\Backup\\Satellites\";\n",
                "    Database    = \"Satellites19\";\n",
                "}\n",
                "$RestoreResult = Restore-DbaDatabase @RestoreParams;"
            ],
            "metadata": {
                "azdata_cell_guid": "09ad61b1-fadd-43e2-af6a-b289e8d94fe5",
                "extensions": {
                    "azuredatastudio": {
                        "views": []
                    }
                },
                "tags": [
                    "hide_input"
                ]
            },
            "outputs": [],
            "execution_count": null
        },
        {
            "cell_type": "code",
            "source": [
                "$RestoreResult | Format-List -Property *;"
            ],
            "metadata": {
                "azdata_cell_guid": "44796eda-a176-484d-9024-8ee3c9e5c821",
                "extensions": {
                    "azuredatastudio": {
                        "views": []
                    }
                },
                "tags": [
                    "hide_input"
                ]
            },
            "outputs": [],
            "execution_count": null
        },
        {
            "cell_type": "markdown",
            "source": [
                "## Restoring a Specific Backup\n",
                "If the database name we're restoring to already exists, `-WithReplace` will overwrite it. **Use with caution!**\n",
                "\n",
                "### Fucntion Demonstrated\n",
                "* `Set-DbaDbOwner`"
            ],
            "metadata": {
                "azdata_cell_guid": "36068d0f-34ff-43b4-b7db-5964a883ebbf",
                "extensions": {
                    "azuredatastudio": {
                        "views": []
                    }
                }
            }
        },
        {
            "cell_type": "code",
            "source": [
                "$RestoreParams = @{\n",
                "    SqlInstance = \"FLEXO\\sql19\";\n",
                "    Path        = $SingleBackupFile;\n",
                "    Database    = \"Satellites19\";\n",
                "    WithReplace = $true;\n",
                "}\n",
                "$RestoreResult = Restore-DbaDatabase @RestoreParams;"
            ],
            "metadata": {
                "azdata_cell_guid": "089d607f-3f6c-416c-9c52-32ccc81f2f47",
                "extensions": {
                    "azuredatastudio": {
                        "views": []
                    }
                },
                "tags": [
                    "hide_input"
                ]
            },
            "outputs": [],
            "execution_count": null
        },
        {
            "cell_type": "code",
            "source": [
                "$RestoreResult | Format-List -Property *;"
            ],
            "metadata": {
                "azdata_cell_guid": "ac1a258c-3854-4530-b1f7-caa5038fdc33",
                "extensions": {
                    "azuredatastudio": {
                        "views": []
                    }
                },
                "tags": [
                    "hide_input"
                ]
            },
            "outputs": [],
            "execution_count": null
        },
        {
            "cell_type": "code",
            "source": [
                "Set-DbaDbOwner -SqlInstance FLEXO\\sql19 -Database Satellites19 -TargetLogin sa;"
            ],
            "metadata": {
                "azdata_cell_guid": "e4d750bc-6d15-4056-b1b7-f0deb7010d32",
                "extensions": {
                    "azuredatastudio": {
                        "views": []
                    }
                },
                "tags": [
                    "hide_input"
                ]
            },
            "outputs": [],
            "execution_count": null
        },
        {
            "cell_type": "markdown",
            "source": [
                "## Just Looking!\n",
                "\n",
                "Maybe I'm just looking to learn how to construct a `RESTORE DATABASE` SQL statement. Other times, I just want to review the statement before it's executed.\n",
                "\n",
                "The `-ReplaceDbNameInFile` renames the pysical files to match the database name when restored."
            ],
            "metadata": {
                "azdata_cell_guid": "f1489ded-7d87-431b-be7f-f0955e2a8f13",
                "extensions": {
                    "azuredatastudio": {
                        "views": []
                    }
                }
            }
        },
        {
            "cell_type": "code",
            "source": [
                "$RestoreParams = @{\n",
                "    SqlInstance         = \"FLEXO\\sql19\";\n",
                "    Path                = $SingleBackupFile;\n",
                "    Database            = \"Satellites19\";\n",
                "    WithReplace         = $true;\n",
                "    OutputScriptOnly    = $true;\n",
                "    ReplaceDbNameInFile = $true;\n",
                "}\n",
                "Restore-DbaDatabase @RestoreParams;"
            ],
            "metadata": {
                "azdata_cell_guid": "f5fd4bdf-2c82-4938-972b-cb4e1ebb4809",
                "extensions": {
                    "azuredatastudio": {
                        "views": []
                    }
                },
                "tags": [
                    "hide_input"
                ]
            },
            "outputs": [],
            "execution_count": null
        }
    ]
}