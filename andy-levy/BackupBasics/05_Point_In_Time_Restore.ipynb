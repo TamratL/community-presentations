{
    "metadata": {
        "kernelspec": {
            "name": "powershell",
            "display_name": "PowerShell",
            "language": "powershell"
        },
        "language_info": {
            "name": "powershell",
            "codemirror_mode": "shell",
            "mimetype": "text/x-sh",
            "file_extension": ".ps1"
        },
        "extensions": {
            "azuredatastudio": {
                "version": 1,
                "views": []
            }
        }
    },
    "nbformat_minor": 2,
    "nbformat": 4,
    "cells": [
        {
            "cell_type": "markdown",
            "source": [
                "# Point In Time Restore\n",
                "Who hasn't run a bad update? Let's try adjusting a Stack Overflow user's reputation.\n",
                "## Function Demonstrated:\n",
                "* `Invoke-DbaQuery`"
            ],
            "metadata": {
                "azdata_cell_guid": "88c6ea63-ae3f-4c81-ba5d-542457c1639a",
                "extensions": {
                    "azuredatastudio": {
                        "views": []
                    }
                }
            }
        },
        {
            "cell_type": "code",
            "source": [
                "$SOQueryParams = @{\n",
                "    SqlInstance = \"FLEXO\\sql17\";\n",
                "    Database    = \"StackOverflow2010\";\n",
                "    Query       = \"select getdate() AS [QueryDate],* from [Users] where [DisplayName] = 'user46185';\";\n",
                "}\n",
                "Invoke-DbaQuery @SOQueryParams;"
            ],
            "metadata": {
                "azdata_cell_guid": "e53d2cdb-f4c9-4af9-b63d-1cc4e9440ce0",
                "extensions": {
                    "azuredatastudio": {
                        "views": []
                    }
                },
                "tags": [
                    "hide_input"
                ]
            },
            "outputs": [],
            "execution_count": null
        },
        {
            "cell_type": "code",
            "source": [
                "$PreUpdateTime = Get-Date;\n",
                "$SOUpdateParams = @{\n",
                "    SqlInstance = \"FLEXO\\sql17\";\n",
                "    Database    = \"StackOverflow2010\";\n",
                "    Query       = \"update [Users] set [Reputation] = 200 where [DisplayName] = 'user461855';\";\n",
                "}\n",
                "Invoke-DbaQuery @SOUpdateParams;"
            ],
            "metadata": {
                "azdata_cell_guid": "258ece2d-fab4-4c87-908b-d87437a6a381",
                "extensions": {
                    "azuredatastudio": {
                        "views": []
                    }
                },
                "tags": [
                    "hide_input"
                ]
            },
            "outputs": [],
            "execution_count": null
        },
        {
            "cell_type": "markdown",
            "source": [
                "Oops!"
            ],
            "metadata": {
                "azdata_cell_guid": "766eabc0-5085-4df0-9c64-c144d3b85fee",
                "extensions": {
                    "azuredatastudio": {
                        "views": []
                    }
                }
            }
        },
        {
            "cell_type": "code",
            "source": [
                "$SOQueryParams = @{\n",
                "    SqlInstance = \"FLEXO\\sql17\";\n",
                "    Database    = \"StackOverflow2010\";\n",
                "    Query       = \"select getdate() AS [QueryDate],Id,DisplayName,Reputation,CreationDate,LastAccessDate  from [Users] where [DisplayName] in ('user46185','user461855');\";\n",
                "}\n",
                "Invoke-DbaQuery @SOQueryParams | Format-Table -auto;"
            ],
            "metadata": {
                "azdata_cell_guid": "746e6c58-d131-4057-9d5f-34a269f0a41b",
                "extensions": {
                    "azuredatastudio": {
                        "views": []
                    }
                },
                "tags": [
                    "hide_input"
                ]
            },
            "outputs": [],
            "execution_count": null
        },
        {
            "cell_type": "markdown",
            "source": [
                "Let's restore the database so we can fix the data\n",
                "\n",
                "Take a log backup so we have something to work with"
            ],
            "metadata": {
                "azdata_cell_guid": "4b53c9e8-c875-456c-9daf-361f3839fcb2",
                "extensions": {
                    "azuredatastudio": {
                        "views": []
                    }
                }
            }
        },
        {
            "cell_type": "code",
            "source": [
                "$BackupParams = @{\n",
                "    SqlInstance = \"FLEXO\\sql17\";\n",
                "    Type        = \"Log\";\n",
                "    Database    = \"StackOverflow2010\";\n",
                "    FilePath    = 'C:\\SQL\\Backup\\FLEXO$SQL17\\StackOverflow2010\\LOG\\FLEXO$SQL17_StackOverflow2010_LOG_' + (get-date -f \"yyyyMMdd_HHmmss\") + \".trn\";\n",
                "    BuildPath    = $true;\n",
                "}\n",
                "Backup-DbaDatabase @BackupParams;"
            ],
            "metadata": {
                "azdata_cell_guid": "b80f1bca-cf0d-4ccd-b28e-09e72ce1ea1a",
                "extensions": {
                    "azuredatastudio": {
                        "views": []
                    }
                },
                "tags": [
                    "hide_input"
                ]
            },
            "outputs": [],
            "execution_count": null
        },
        {
            "cell_type": "markdown",
            "source": [
                "Restore to another database"
            ],
            "metadata": {
                "azdata_cell_guid": "3640e8ae-3fb5-413e-bf36-df063e40b258",
                "extensions": {
                    "azuredatastudio": {
                        "views": []
                    }
                }
            }
        },
        {
            "cell_type": "code",
            "source": [
                "$RestoreParams = @{\n",
                "    SqlInstance               = \"FLEXO\\sql17\";\n",
                "    Path                      = 'C:\\sql\\Backup\\FLEXO$SQL17\\StackOverflow2010\\';\n",
                "    DatabaseName              = \"StackOverflow2010-Restored\";\n",
                "    RestoreTime               = $PreUpdateTime;\n",
                "    ReplaceDbNameInFile       = $true;\n",
                "    MaintenanceSolutionBackup = $true;\n",
                "}\n",
                "$RestoreResult = Restore-DbaDatabase @RestoreParams;\n",
                ""
            ],
            "metadata": {
                "azdata_cell_guid": "afa03b3d-f4da-4138-a43e-0f1b4a9f3622",
                "extensions": {
                    "azuredatastudio": {
                        "views": []
                    }
                },
                "tags": [
                    "hide_input"
                ]
            },
            "outputs": [],
            "execution_count": null
        },
        {
            "cell_type": "code",
            "source": [
                "$RestoreResult | Format-List -Property *;"
            ],
            "metadata": {
                "azdata_cell_guid": "ff78e34d-c935-4085-8aa6-7edcde4db79a",
                "extensions": {
                    "azuredatastudio": {
                        "views": []
                    }
                },
                "tags": [
                    "hide_input"
                ]
            },
            "outputs": [],
            "execution_count": null
        },
        {
            "cell_type": "markdown",
            "source": [
                "Database is restored, let's verify the data is in the right state"
            ],
            "metadata": {
                "azdata_cell_guid": "4b252e3a-7f9f-4dfd-8b6e-c8c87eba6e3d",
                "extensions": {
                    "azuredatastudio": {
                        "views": []
                    }
                }
            }
        },
        {
            "cell_type": "code",
            "source": [
                "$SOQueryParams = @{\n",
                "    SqlInstance = \"FLEXO\\sql17\";\n",
                "    Database    = \"StackOverflow2010-Restored\";\n",
                "    Query       = \"select getdate() AS [QueryDate],Id,DisplayName,Reputation,CreationDate,LastAccessDate  from [Users] where [DisplayName] in ('user46185','user461855');\";\n",
                "}\n",
                "Invoke-DbaQuery @SOQueryParams | Format-Table -auto;"
            ],
            "metadata": {
                "azdata_cell_guid": "f3282c34-a4ca-406a-8040-f9a2c26f941d",
                "extensions": {
                    "azuredatastudio": {
                        "views": []
                    }
                },
                "tags": [
                    "hide_input"
                ]
            },
            "outputs": [],
            "execution_count": null
        },
        {
            "cell_type": "markdown",
            "source": [
                "## Cleanup\n",
                "\n",
                "Data looks good in the restored database, so we'll fix things up in the live database using that data (not shown), then remove the restored database. I'm using `-Confirm:$false` because the prompt won't work in Azure Data Studio.\n",
                "## Function Demonstrated:\n",
                "* `Remove-DbaDatabase`"
            ],
            "metadata": {
                "azdata_cell_guid": "58e35e24-6a75-4e1c-9d37-f4f2c186a340",
                "extensions": {
                    "azuredatastudio": {
                        "views": []
                    }
                }
            }
        },
        {
            "cell_type": "code",
            "source": [
                "Remove-DbaDatabase -SqlInstance FLEXO\\SQL17 -Database StackOverflow2010-Restored -Confirm:$false;"
            ],
            "metadata": {
                "azdata_cell_guid": "d435032a-592d-43ac-974c-fb3b84cb5e3f",
                "extensions": {
                    "azuredatastudio": {
                        "views": []
                    }
                },
                "tags": [
                    "hide_input"
                ]
            },
            "outputs": [],
            "execution_count": null
        }
    ]
}