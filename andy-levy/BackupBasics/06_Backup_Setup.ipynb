{
    "metadata": {
        "kernelspec": {
            "name": "powershell",
            "display_name": "PowerShell",
            "language": "powershell"
        },
        "language_info": {
            "name": "powershell",
            "codemirror_mode": "shell",
            "mimetype": "text/x-sh",
            "file_extension": ".ps1"
        }
    },
    "nbformat_minor": 2,
    "nbformat": 4,
    "cells": [
        {
            "cell_type": "markdown",
            "source": [
                "# Basic Backup Setup\n",
                "## Where do backups go?\n",
                "### Function Demonstrated\n",
                "* `Get-DbaDefaultPath`"
            ],
            "metadata": {
                "azdata_cell_guid": "213da99b-d0e6-43ad-b51f-339ee61fb2a8"
            }
        },
        {
            "cell_type": "code",
            "source": [
                "Get-DbaDefaultPath -SqlInstance FLEXO\\Sql17;"
            ],
            "metadata": {
                "azdata_cell_guid": "b4033673-9701-47fd-ba14-bc38e1a4721e"
            },
            "outputs": [],
            "execution_count": null
        },
        {
            "cell_type": "markdown",
            "source": [
                "## Check & Set Backup Compression\n",
                "### Functions Demonstrated\n",
                "* `Get-DbaSpConfigure`\n",
                "* `Set-DbaSpConfigure`"
            ],
            "metadata": {
                "azdata_cell_guid": "30f59627-46fd-4d30-aa9b-8b6afef90d82"
            }
        },
        {
            "cell_type": "code",
            "source": [
                "Get-DbaSpConfigure -SqlInstance FLEXO\\Sql17 -Name DefaultBackupCompression;"
            ],
            "metadata": {
                "azdata_cell_guid": "2d10f89d-273d-4c96-8410-22ef1c156ca6"
            },
            "outputs": [],
            "execution_count": null
        },
        {
            "cell_type": "code",
            "source": [
                "Set-DbaSpConfigure -SqlInstance FLEXO\\Sql17 -Name DefaultBackupCompression -Value 1;"
            ],
            "metadata": {
                "azdata_cell_guid": "73b33f13-96b6-4c41-a40b-d9400816764a"
            },
            "outputs": [],
            "execution_count": null
        }
    ]
}