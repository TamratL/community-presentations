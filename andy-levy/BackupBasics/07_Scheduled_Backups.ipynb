{
    "metadata": {
        "kernelspec": {
            "name": "powershell",
            "display_name": "PowerShell",
            "language": "powershell"
        },
        "language_info": {
            "name": "powershell",
            "codemirror_mode": "shell",
            "mimetype": "text/x-sh",
            "file_extension": ".ps1"
        },
        "extensions": {
            "azuredatastudio": {
                "version": 1,
                "views": []
            }
        }
    },
    "nbformat_minor": 2,
    "nbformat": 4,
    "cells": [
        {
            "cell_type": "markdown",
            "source": [
                "# Scheduled Backups\n",
                "Manual backups are one thing, but we should be scheduling our backups to run regularly.\n",
                "\n",
                "dbatools makes it easy to install & schedule backups with [Ola Hallengren's Maintenance Solution](https://ola.hallengren.com/).\n",
                "\n",
                "## Installation\n",
                "`Install-DbaMaintenanceSolution` retrieves the latest version from Github _or_ can use a locally-stored copy.\n",
                "\n",
                "### Function Demonstrated\n",
                "* `Install-DbaMaintenanceSolution`"
            ],
            "metadata": {
                "azdata_cell_guid": "051e87d3-ebdf-46c7-9982-d96c0afecc13",
                "extensions": {
                    "azuredatastudio": {
                        "views": []
                    }
                }
            }
        },
        {
            "cell_type": "code",
            "source": [
                "$InstallParams = @{\n",
                "    SqlInstance     = \"FLEXO\\sql19\";\n",
                "    Solution        = \"All\";\n",
                "    Database        = \"DBAThings\";\n",
                "    CleanupTime     = 25;\n",
                "    InstallJobs     = $true;\n",
                "    LogToTable      = $true;\n",
                "    ReplaceExisting = $true;\n",
                "    Force = $true;\n",
                "}\n",
                "Install-DbaMaintenanceSolution @InstallParams;"
            ],
            "metadata": {
                "azdata_cell_guid": "4114500b-db24-401c-abf0-90a4c2dc8b25",
                "extensions": {
                    "azuredatastudio": {
                        "views": []
                    }
                },
                "tags": [
                    "hide_input"
                ]
            },
            "outputs": [],
            "execution_count": null
        },
        {
            "cell_type": "markdown",
            "source": [
                "## Verifying Installation\n",
                "Ola's scripts get installed with a categoy of \"Database Maintenance\" so we can filter the list of installed jobs.\n",
                "### Function Demonstrated\n",
                "* `Get-DbaAgentJob`"
            ],
            "metadata": {
                "azdata_cell_guid": "59b6d758-92f1-4736-977f-ba0ded54b986",
                "extensions": {
                    "azuredatastudio": {
                        "views": []
                    }
                }
            }
        },
        {
            "cell_type": "code",
            "source": [
                "Get-DbaAgentJob -SqlInstance FLEXO\\sql19 -Category \"Database Maintenance\" | Select-Object -Property Name;"
            ],
            "metadata": {
                "azdata_cell_guid": "10f03a85-094e-491e-afe4-f6d5b43c873c",
                "extensions": {
                    "azuredatastudio": {
                        "views": []
                    }
                },
                "tags": [
                    "hide_input"
                ]
            },
            "outputs": [],
            "execution_count": null
        },
        {
            "cell_type": "markdown",
            "source": [
                "## Check job info\n",
                "\n",
                "Do the backup jobs have schedules assigned to them?"
            ],
            "metadata": {
                "azdata_cell_guid": "37e7d91c-fff5-4f83-807b-55ff7c96e8ad",
                "extensions": {
                    "azuredatastudio": {
                        "views": []
                    }
                }
            }
        },
        {
            "cell_type": "code",
            "source": [
                "$JobInfoParams = @{\n",
                "    SqlInstance = \"FLEXO\\sql19\";\n",
                "    Job         = @(\"DatabaseBackup - USER_DATABASES - Log\", \"DatabaseBackup - USER_DATABASES - Full\");\n",
                "}\n",
                "\n",
                "Get-DbaAgentJob  @JobInfoParams | select-object Name, @{n = \"ScheduleCount\"; e = { $_.JobSchedules.Count } }"
            ],
            "metadata": {
                "azdata_cell_guid": "b5682853-d0e7-4dd4-801b-1231751ef73b",
                "extensions": {
                    "azuredatastudio": {
                        "views": []
                    }
                },
                "tags": [
                    "hide_input"
                ]
            },
            "outputs": [],
            "execution_count": null
        },
        {
            "cell_type": "markdown",
            "source": [
                "## Scheduling\n",
                "\n",
                "Let's assign 5-minute and 15-minute schedules to our Log and Full backup jobs, respectively.\n",
                "\n",
                "### Functions Demonstrated\n",
                "* `New-DbaAgentSchedule`\n",
                "* `Set-DbaAgentJob`\n",
                "* `Start-DbaAgentJob`"
            ],
            "metadata": {
                "azdata_cell_guid": "986c0dcd-e753-4eca-a5d6-51a9e0733f27",
                "extensions": {
                    "azuredatastudio": {
                        "views": []
                    }
                }
            }
        },
        {
            "cell_type": "code",
            "source": [
                "$FiveMinuteParams = @{\n",
                "    SqlInstance             = \"FLEXO\\sql19\";\n",
                "    Schedule                = \"Five Minutes\";\n",
                "    FrequencyType           = \"Daily\";\n",
                "    FrequencyInterval       = 1;\n",
                "    FrequencySubdayInterval = 5;\n",
                "    FrequencySubdayType     = \"Minutes\";\n",
                "    Force                   = $true;\n",
                "}\n",
                "\n",
                "$FifteenMinuteParams = @{\n",
                "    SqlInstance             = \"FLEXO\\sql19\";\n",
                "    Schedule                = \"Fifteen Minutes\";\n",
                "    FrequencyType           = \"Daily\";\n",
                "    FrequencyInterval       = 1;\n",
                "    FrequencySubdayInterval = 15;\n",
                "    FrequencySubdayType     = \"Minutes\";\n",
                "    Force                   = $true;\n",
                "}\n",
                "\n",
                "$EveryFiveMinutes = New-DbaAgentSchedule @FiveMinuteParams;\n",
                "$EveryFifteenMinutes = New-DbaAgentSchedule @FifteenMinuteParams;"
            ],
            "metadata": {
                "azdata_cell_guid": "190c2017-ce8c-4b44-89a9-38f6837f2c55",
                "extensions": {
                    "azuredatastudio": {
                        "views": []
                    }
                },
                "tags": [
                    "hide_input"
                ]
            },
            "outputs": [],
            "execution_count": null
        },
        {
            "cell_type": "code",
            "source": [
                "$LogBackupParams = @{\n",
                "    SqlInstance = \"FLEXO\\sql19\";\n",
                "    Job         = \"DatabaseBackup - USER_DATABASES - LOG\";\n",
                "    Schedule    = $EveryFiveMinutes;\n",
                "};\n",
                "\n",
                "$FullBackupParams = @{\n",
                "    SqlInstance = \"FLEXO\\sql19\";\n",
                "    Job         = \"DatabaseBackup - USER_DATABASES - FULL\";\n",
                "    Schedule    = $EveryFifteenMinutes;\n",
                "};\n",
                "\n",
                "Set-DbaAgentJob @LogBackupParams;\n",
                "Set-DbaAgentJob @FullBackupParams;"
            ],
            "metadata": {
                "azdata_cell_guid": "75c51ebe-e0da-4483-ab0d-82b522a5955c",
                "extensions": {
                    "azuredatastudio": {
                        "views": []
                    }
                },
                "tags": [
                    "hide_input"
                ]
            },
            "outputs": [],
            "execution_count": null
        },
        {
            "cell_type": "code",
            "source": [
                "Start-DbaAgentJob -SqlInstance FLEXO\\sql19 -Job \"DatabaseBackup - USER_DATABASES - FULL\";"
            ],
            "metadata": {
                "azdata_cell_guid": "14f69934-7839-4e9d-808a-bf0ba75c574d",
                "extensions": {
                    "azuredatastudio": {
                        "views": []
                    }
                },
                "tags": [
                    "hide_input"
                ]
            },
            "outputs": [],
            "execution_count": null
        }
    ]
}