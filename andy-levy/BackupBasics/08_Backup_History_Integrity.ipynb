{
    "metadata": {
        "kernelspec": {
            "name": "powershell",
            "display_name": "PowerShell",
            "language": "powershell"
        },
        "language_info": {
            "name": "powershell",
            "codemirror_mode": "shell",
            "mimetype": "text/x-sh",
            "file_extension": ".ps1"
        },
        "extensions": {
            "azuredatastudio": {
                "version": 1,
                "views": []
            }
        }
    },
    "nbformat_minor": 2,
    "nbformat": 4,
    "cells": [
        {
            "cell_type": "markdown",
            "source": [
                "# Checking on Backups\n",
                "## Last Backup of Each Database\n",
                "\n",
                "`Get-DbaLastBackup` retrieves the most recent backup of each database.\n",
                "### Function Demonstrated\n",
                "* `Get-DbaLastBackup`"
            ],
            "metadata": {
                "azdata_cell_guid": "b79f04ed-d589-47e7-8790-fd505d2b5950",
                "extensions": {
                    "azuredatastudio": {
                        "views": []
                    }
                }
            }
        },
        {
            "cell_type": "code",
            "source": [
                "Get-DbaLastBackup -SqlInstance FLEXO\\sql17 | Format-Table -AutoSize;"
            ],
            "metadata": {
                "azdata_cell_guid": "8964b3e4-b2a7-42fb-8cdc-13d72fb7ce88",
                "extensions": {
                    "azuredatastudio": {
                        "views": []
                    }
                },
                "tags": [
                    "hide_input"
                ]
            },
            "outputs": [],
            "execution_count": null
        },
        {
            "cell_type": "markdown",
            "source": [
                "## Backup History for One Database\n",
                "### Function Demonstrated\n",
                "* `Get-DbaDbBackupHistory`"
            ],
            "metadata": {
                "azdata_cell_guid": "680e0a43-71c7-4c09-bdc3-000351308b36",
                "extensions": {
                    "azuredatastudio": {
                        "views": []
                    }
                }
            }
        },
        {
            "cell_type": "code",
            "source": [
                "Get-DbaDbBackupHistory -SqlInstance FLEXO\\sql17 -Database stackoverflow2010 | Sort-Object -Property Start;"
            ],
            "metadata": {
                "azdata_cell_guid": "d7e6b59b-add0-4436-a53d-58b4e087b2b8",
                "extensions": {
                    "azuredatastudio": {
                        "views": []
                    }
                },
                "tags": [
                    "hide_input"
                ]
            },
            "outputs": [],
            "execution_count": null
        },
        {
            "cell_type": "markdown",
            "source": [
                "## Recent Backups"
            ],
            "metadata": {
                "azdata_cell_guid": "c0738f50-329e-4888-8efe-707d8bad1c5e",
                "extensions": {
                    "azuredatastudio": {
                        "views": []
                    }
                }
            }
        },
        {
            "cell_type": "code",
            "source": [
                "$HistoryParams = @{\n",
                "    SqlInstance     = \"FLEXO\\sql17\";\n",
                "    IncludeCopyOnly = $true;\n",
                "    Since           = (Get-Date).AddDays(-1);\n",
                "    DeviceType      = \"Disk\";\n",
                "}\n",
                "Get-DbaDbBackupHistory @HistoryParams | Sort-Object -Property Start | Format-Table -AutoSize;"
            ],
            "metadata": {
                "azdata_cell_guid": "92768d53-af6b-4ff9-ab64-92b3f2480fe4",
                "extensions": {
                    "azuredatastudio": {
                        "views": []
                    }
                },
                "tags": [
                    "hide_input"
                ]
            },
            "outputs": [],
            "execution_count": null
        },
        {
            "cell_type": "markdown",
            "source": [
                "### Let's send that to Excel instead\n",
                "### Function Demonstrated\n",
                "* `Export-Excel`"
            ],
            "metadata": {
                "azdata_cell_guid": "784bcb78-f9a5-4318-98bb-1a1e1cf77b51",
                "extensions": {
                    "azuredatastudio": {
                        "views": []
                    }
                }
            }
        },
        {
            "cell_type": "code",
            "source": [
                "$HistoryParams = @{\n",
                "    SqlInstance     = \"FLEXO\\sql17\";\n",
                "    IncludeCopyOnly = $true;\n",
                "    Since           = (Get-Date).AddDays(-1);\n",
                "    DeviceType      = \"Disk\";\n",
                "};\n",
                "\n",
                "$BackupHistory = Get-DbaDbBackupHistory @HistoryParams;\n",
                "\n",
                "$ExcelParams = @{\n",
                "    Path         = \"C:\\users\\andy\\documents\\BackupHistory.xlsx\";\n",
                "    ClearSheet   = $true;\n",
                "    AutoSize     = $true;\n",
                "    FreezeTopRow = $true;\n",
                "    BoldTopRow   = $true;\n",
                "    AutoFilter   = $true;\n",
                "    Show         = $true;\n",
                "}\n",
                "$BackupHistory | Export-Excel @ExcelParams;"
            ],
            "metadata": {
                "azdata_cell_guid": "9119f714-aeec-4612-a2e3-de0246970843",
                "extensions": {
                    "azuredatastudio": {
                        "views": []
                    }
                },
                "tags": [
                    "hide_input"
                ]
            },
            "outputs": [],
            "execution_count": null
        },
        {
            "cell_type": "markdown",
            "source": [
                "## Backup Integrity\n",
                "Backups don't mean much if they can't be restored, right? How can we test that we have good, usable backups of our databases?\n",
                "\n",
                "And then, how can we prove that we're doing it?\n",
                "### Function Demonstrated\n",
                "* `Test-DbaLastBackup`"
            ],
            "metadata": {
                "azdata_cell_guid": "82f1d2e8-78f4-4eee-a695-1a208dfb57c8",
                "extensions": {
                    "azuredatastudio": {
                        "views": []
                    }
                }
            }
        },
        {
            "cell_type": "code",
            "source": [
                "$BackupTestParams = @{\n",
                "    SqlInstance = \"FLEXO\\sql17\";\n",
                "    Destination = \"FLEXO\\sql19\";\n",
                "    Database    = @(\"DBAThings\", \"Geocaches\", \"Satellites\");\n",
                "}\n",
                "$BackupTestResults = Test-DbaLastBackup @BackupTestParams;"
            ],
            "metadata": {
                "azdata_cell_guid": "6ed4d628-80c6-4c97-963b-02eba0a06625",
                "extensions": {
                    "azuredatastudio": {
                        "views": []
                    }
                },
                "tags": [
                    "hide_input"
                ]
            },
            "outputs": [],
            "execution_count": null
        },
        {
            "cell_type": "code",
            "source": [
                "$BackupTestResults | Format-List -Property *;"
            ],
            "metadata": {
                "azdata_cell_guid": "23792a2a-1774-4553-925f-72546fb9373d",
                "extensions": {
                    "azuredatastudio": {
                        "views": []
                    }
                },
                "tags": [
                    "hide_input"
                ]
            },
            "outputs": [],
            "execution_count": null
        },
        {
            "cell_type": "markdown",
            "source": [
                "## DBCC History to Table\n",
                "### Functions Demonstrated\n",
                "* `ConvertTo-DbaDataTable`\n",
                "* `Write-DbaDataTable`"
            ],
            "metadata": {
                "azdata_cell_guid": "6be07b8f-cba2-4413-b19e-c9b064417ee4",
                "extensions": {
                    "azuredatastudio": {
                        "views": []
                    }
                }
            }
        },
        {
            "cell_type": "code",
            "source": [
                "$OutputParams = @{\n",
                "    SqlInstance            = \"FLEXO\\sql19\";\n",
                "    Database               = \"DBAThings\";\n",
                "    Schema                 = \"dbo\";\n",
                "    Table                  = \"BackupValidation\";\n",
                "    AutoCreateTable        = $true;\n",
                "    UseDynamicStringLength = $true;\n",
                "}\n",
                "$BackupTestResults | ConvertTo-DbaDataTable | Write-DbaDataTable @OutputParams;"
            ],
            "metadata": {
                "azdata_cell_guid": "994db337-b836-4609-a3ec-13753e330a92",
                "extensions": {
                    "azuredatastudio": {
                        "views": []
                    }
                },
                "tags": [
                    "hide_input"
                ]
            },
            "outputs": [],
            "execution_count": null
        },
        {
            "cell_type": "markdown",
            "source": [
                "The auditors are coming! Provide documentation!"
            ],
            "metadata": {
                "azdata_cell_guid": "88326072-86ff-4313-825c-59dce1898e67",
                "extensions": {
                    "azuredatastudio": {
                        "views": []
                    }
                }
            }
        },
        {
            "cell_type": "code",
            "source": [
                "$ExcelParams = @{\n",
                "    Path         = \"C:\\users\\andy\\documents\\BackupVerification.xlsx\";\n",
                "    ClearSheet   = $true;\n",
                "    AutoSize     = $true;\n",
                "    FreezeTopRow = $true;\n",
                "    BoldTopRow   = $true;\n",
                "    AutoFilter   = $true;\n",
                "    Show         = $true;\n",
                "}\n",
                "$QueryParams = @{\n",
                "    SqlInstance = \"FLEXO\\sql19\";\n",
                "    Database    = \"DBAThings\";\n",
                "    Query       = \"select * from BackupValidation\";\n",
                "}\n",
                "invoke-dbaquery @QueryParams | convertto-dbadatatable | Export-Excel @ExcelParams;"
            ],
            "metadata": {
                "azdata_cell_guid": "f8387cd3-7422-46ae-9efb-3234481814a4",
                "extensions": {
                    "azuredatastudio": {
                        "views": []
                    }
                },
                "tags": [
                    "hide_input"
                ]
            },
            "outputs": [],
            "execution_count": null
        },
        {
            "cell_type": "markdown",
            "source": [
                "## Backup Speed\n",
                "How fast are our backups?\n",
                "### Function Demonstrated\n",
                "* `Measure-DbaBackupThroughput`"
            ],
            "metadata": {
                "azdata_cell_guid": "408a7817-bef1-4292-b3b4-25b28707365e",
                "extensions": {
                    "azuredatastudio": {
                        "views": []
                    }
                }
            }
        },
        {
            "cell_type": "code",
            "source": [
                "$ThroughputParams = @{\n",
                "    SqlInstance = \"flexo\\Sql17\";\n",
                "    Type = \"Full\"\n",
                "}\n",
                "$MeasurementFields = @(\n",
                "     \"SqlInstance\"\n",
                "     ,\"Database\"\n",
                "     ,\"MaxBackupDate\"\n",
                "    ,\"AvgThroughput\"\n",
                "    ,\"AvgDuration\"\n",
                "    ,\"MinThroughput\"\n",
                "    ,\"MaxThroughput\"\n",
                "    ,\"BackupCount\"\n",
                ")\n",
                "Measure-DbaBackupThroughput @ThroughputParams | Select-object -Property $MeasurementFields | Format-Table -AutoSize;"
            ],
            "metadata": {
                "azdata_cell_guid": "1a7dc219-a8b1-4643-b7fd-8e24ef92ab9d",
                "extensions": {
                    "azuredatastudio": {
                        "views": []
                    }
                },
                "tags": [
                    "hide_input"
                ]
            },
            "outputs": [],
            "execution_count": null
        }
    ]
}