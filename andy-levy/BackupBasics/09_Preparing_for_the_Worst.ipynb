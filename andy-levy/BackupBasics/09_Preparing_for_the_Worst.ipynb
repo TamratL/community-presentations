{
    "metadata": {
        "kernelspec": {
            "name": "powershell",
            "display_name": "PowerShell",
            "language": "powershell"
        },
        "language_info": {
            "name": "powershell",
            "codemirror_mode": "shell",
            "mimetype": "text/x-sh",
            "file_extension": ".ps1"
        },
        "extensions": {
            "azuredatastudio": {
                "version": 1,
                "views": []
            }
        }
    },
    "nbformat_minor": 2,
    "nbformat": 4,
    "cells": [
        {
            "cell_type": "markdown",
            "source": [
                "# Preparing for the Worst\n",
                "\n",
                "### Function Demonstrated\n",
                "* `Export-DbaInstance`"
            ],
            "metadata": {
                "azdata_cell_guid": "863f5985-c879-46d8-bc10-c25e326b09b5",
                "extensions": {
                    "azuredatastudio": {
                        "views": []
                    }
                }
            }
        },
        {
            "cell_type": "code",
            "source": [
                "Get-Help Export-DbaInstance "
            ],
            "metadata": {
                "azdata_cell_guid": "67ed18b9-07ab-4dc3-b6e4-5e11ab7d9f27",
                "extensions": {
                    "azuredatastudio": {
                        "views": []
                    }
                },
                "tags": [
                    "hide_input"
                ]
            },
            "outputs": [],
            "execution_count": null
        },
        {
            "cell_type": "code",
            "source": [
                "Export-DbaInstance -SqlInstance FLEXO\\sql17 -Path C:\\SQL\\Export;"
            ],
            "metadata": {
                "azdata_cell_guid": "832be8a3-b55a-474f-af98-bc0b5dd8525a",
                "extensions": {
                    "azuredatastudio": {
                        "views": []
                    }
                },
                "tags": [
                    "hide_input"
                ]
            },
            "outputs": [],
            "execution_count": null
        }
    ]
}