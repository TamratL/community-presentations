{
    "metadata": {
        "kernelspec": {
            "name": "powershell",
            "display_name": "PowerShell",
            "language": "powershell"
        },
        "language_info": {
            "name": "powershell",
            "codemirror_mode": "shell",
            "mimetype": "text/x-sh",
            "file_extension": ".ps1"
        },
        "extensions": {
            "azuredatastudio": {
                "version": 1,
                "views": []
            }
        }
    },
    "nbformat_minor": 2,
    "nbformat": 4,
    "cells": [
        {
            "cell_type": "markdown",
            "source": [
                "# Reset Environment\n",
                "Do this after the demos are done"
            ],
            "metadata": {
                "azdata_cell_guid": "fdcd3656-454c-469e-93ee-219f086926a1",
                "extensions": {
                    "azuredatastudio": {
                        "views": []
                    }
                }
            }
        },
        {
            "cell_type": "code",
            "source": [
                "Set-DbaSpConfigure -SqlInstance FLEXO\\sql17 -Name DefaultBackupCompression -Value 0;\n",
                "Remove-Item c:\\users\\andy\\documents\\BackupHistory.xlsx;\n",
                "Remove-Item C:\\users\\andy\\documents\\BackupVerification.xlsx;\n",
                "get-childitem -path C:\\SQL\\Backup -File | Remove-Item\n",
                "Get-ChildItem -path C:\\SQL\\Export -recurse | remove-item -force -confirm:$false -recurse;\n",
                "Remove-Item -Force -recurse -confirm:$false \"C:\\SQL\\Backup\\Satellites\";\n",
                "remove-item -Force -Recurse -Confirm:$false 'C:\\SQL\\Backup\\FLEXO$SQL17\\StackOverflow2010-Restored'\n",
                "Remove-DbaDatabase -SqlInstance FLEXO\\sql19 -Database Satellites19 -Confirm:$false;\n",
                "Remove-DbaDatabase -SqlInstance FLEXO\\sql17 -Database StackOverflow2010-Restored -Confirm:$false;\n",
                "Restore-DbaDatabase -SqlInstance FLEXO\\sql17 -DatabaseName StackOverflow2010 -ReplaceDbNameInFile -WithReplace -Path C:\\Datasets\\StackOverflow2010.bak;\n",
                "Start-DbaAgentJob -SqlInstance FLEXO\\sql17 -Job \"DatabaseBackup - USER_DATABASES - FULL\" -Wait;\n",
                "Start-DbaAgentJob -SqlInstance FLEXO\\sql17 -Job \"DatabaseBackup - USER_DATABASES - LOG\";\n",
                "# Remove Ola jobs from flexo\\sql19\n",
                "Get-DbaAgentJob -SqlInstance FLEXO\\sql19 -Category \"Database Maintenance\" | Remove-DbaAgentJob;\n",
                "(Get-DbaDbTable -SqlInstance FLEXO\\sql19 -database dbathings | Where-Object { $PSItem.name -in @(\"BackupValidation\", \"CommandLog\") }).DropIfExists();"
            ],
            "metadata": {
                "azdata_cell_guid": "8df24568-6d9a-4103-ad8d-102160b75b6d",
                "extensions": {
                    "azuredatastudio": {
                        "views": []
                    }
                },
                "tags": [
                    "hide_input"
                ]
            },
            "outputs": [],
            "execution_count": null
        },
        {
            "cell_type": "markdown",
            "source": [
                "Do this before starting new session"
            ],
            "metadata": {
                "azdata_cell_guid": "96c76a59-22ac-4cd6-8a12-baed0307fce2",
                "extensions": {
                    "azuredatastudio": {
                        "views": []
                    }
                }
            }
        },
        {
            "cell_type": "code",
            "source": [
                "remove-dbadatabase -SqlInstance flexo\\sql17 -database stackoverflow2010 -confirm:$false;\n",
                "remove-item -force -Path 'C:\\SQL\\Backup\\FLEXO$SQL17\\StackOverflow2010' -recurse -confirm:$false;\n",
                "Restore-DbaDatabase -SqlInstance FLEXO\\sql17 -DatabaseName StackOverflow2010 -ReplaceDbNameInFile -WithReplace -Path C:\\Datasets\\StackOverflow2010.bak;\n",
                "Invoke-DbaQuery -SqlInstance FLEXO\\sql17 -Database msdb -Query \"exec sp_delete_database_backuphistory @database_name='StackOverflow2010';\";\n",
                "Start-DbaAgentJob -SqlInstance FLEXO\\sql17 -Job \"DatabaseBackup - USER_DATABASES - FULL\" -Wait;\n",
                "Start-DbaAgentJob -SqlInstance FLEXO\\sql17 -Job \"DatabaseBackup - USER_DATABASES - Log\" -Wait;"
            ],
            "metadata": {
                "azdata_cell_guid": "4b9faacf-02aa-4589-94c3-81e3bb56944c",
                "extensions": {
                    "azuredatastudio": {
                        "views": []
                    }
                },
                "tags": [
                    "hide_input"
                ]
            },
            "outputs": [],
            "execution_count": null
        }
    ]
}