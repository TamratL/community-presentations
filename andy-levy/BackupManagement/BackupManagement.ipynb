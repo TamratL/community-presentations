{
    "metadata": {
        "kernelspec": {
            "name": "powershell",
            "display_name": "PowerShell"
        },
        "language_info": {
            "name": "powershell",
            "codemirror_mode": "shell",
            "mimetype": "text/x-sh",
            "file_extension": ".ps1"
        }
    },
    "nbformat_minor": 2,
    "nbformat": 4,
    "cells": [
        {
            "cell_type": "markdown",
            "source": [
                "# Installation & Maintenance\r\n",
                "\r\n",
                "\r\n",
                "\r\n",
                ""
            ],
            "metadata": {
                "azdata_cell_guid": "91047590-bba3-47e5-9f4f-47d45aaa5b8c"
            }
        },
        {
            "cell_type": "markdown",
            "source": [
                "## First Install"
            ],
            "metadata": {
                "azdata_cell_guid": "643ed2bb-b4f0-409e-b98c-8e16ef208eda"
            }
        },
        {
            "cell_type": "markdown",
            "source": [
                "### Trust the PSGallery Repository"
            ],
            "metadata": {
                "azdata_cell_guid": "0593a802-1c3f-495e-8e5d-4f5df05bf31e"
            }
        },
        {
            "cell_type": "code",
            "source": [
                "Set-PSRepository -name PSGallery -InstallationPolicy Trusted"
            ],
            "metadata": {
                "azdata_cell_guid": "914d8371-5852-4fb8-a9c8-61612a87b32e",
                "tags": [
                    "hide_input"
                ]
            },
            "outputs": [],
            "execution_count": null
        },
        {
            "cell_type": "code",
            "source": [
                "Install-Module -Name dbatools -Scope CurrentUser;"
            ],
            "metadata": {
                "azdata_cell_guid": "6409d9f1-32e5-4c3c-95e9-8bd7be46335d",
                "tags": [
                    "hide_input"
                ]
            },
            "outputs": [],
            "execution_count": null
        },
        {
            "cell_type": "markdown",
            "source": [
                "## Updating dbatools"
            ],
            "metadata": {
                "azdata_cell_guid": "35913f32-950d-491e-bfa4-8e084c572a18"
            }
        },
        {
            "cell_type": "code",
            "source": [
                "Update-Module -Name dbatools -Verbose;"
            ],
            "metadata": {
                "azdata_cell_guid": "6f1b10bd-8a80-43b7-a9ff-7d8a73551dc9",
                "tags": [
                    "hide_input"
                ]
            },
            "outputs": [],
            "execution_count": null
        },
        {
            "cell_type": "markdown",
            "source": [
                "# Basic Backup Information\r\n",
                "* Where do backups go?\r\n",
                "* Do we have backups?\r\n",
                "* Do they get compressed?"
            ],
            "metadata": {
                "azdata_cell_guid": "98514257-ad41-4573-b6b7-c6957dbbc808"
            }
        },
        {
            "cell_type": "code",
            "source": [
                "$SqlInstance = \"localhost\\sql17\";\r\n",
                "Get-DbaDefaultPath -SqlInstance $SqlInstance;"
            ],
            "metadata": {
                "azdata_cell_guid": "39fc6c3c-9f04-4313-baa4-e467f9b7fc42",
                "tags": [
                    "hide_input"
                ]
            },
            "outputs": [],
            "execution_count": null
        },
        {
            "cell_type": "markdown",
            "source": [
                "### Open an Explorer window to the backup location"
            ],
            "metadata": {
                "azdata_cell_guid": "835a515d-2a19-44fd-8583-5e0c45a72ed8"
            }
        },
        {
            "cell_type": "code",
            "source": [
                "$SqlInstance = \"localhost\\sql17\";\r\n",
                "Get-DbaDefaultPath -SqlInstance  $SqlInstance | Select-Object -ExpandProperty Backup | Invoke-Item;"
            ],
            "metadata": {
                "azdata_cell_guid": "f7437d9b-0fb7-40d5-896f-3c385f21f3e6",
                "tags": [
                    "hide_input"
                ]
            },
            "outputs": [],
            "execution_count": null
        },
        {
            "cell_type": "markdown",
            "source": [
                "### Check & Set Backup Compression"
            ],
            "metadata": {
                "azdata_cell_guid": "413c9d69-0e0f-4611-aa90-661067a6bf71"
            }
        },
        {
            "cell_type": "code",
            "source": [
                "$SqlInstance = \"localhost\\sql17\";\r\n",
                "Get-DbaSpConfigure -SqlInstance $SqlInstance -Name DefaultBackupCompression;"
            ],
            "metadata": {
                "azdata_cell_guid": "1a7e3b8f-8272-4ff7-b9c7-b4f73e0d2ebd"
            },
            "outputs": [],
            "execution_count": null
        },
        {
            "cell_type": "code",
            "source": [
                "$SqlInstance = \"localhost\\sql17\";\r\n",
                "Set-DbaSpConfigure -SqlInstance $SqlInstance -Name DefaultBackupCompression -Value 1;"
            ],
            "metadata": {
                "azdata_cell_guid": "a4efb867-b119-47d7-b6ca-d016ff9d09c9"
            },
            "outputs": [],
            "execution_count": null
        },
        {
            "cell_type": "markdown",
            "source": [
                "## Let's Work With Backups!"
            ],
            "metadata": {
                "azdata_cell_guid": "28c3119b-42ba-4e6f-9b9a-54290ea51fe3"
            }
        },
        {
            "cell_type": "markdown",
            "source": [
                "### Backup history for one database"
            ],
            "metadata": {
                "azdata_cell_guid": "f769d8e4-df4d-4085-8818-b04adba426f1"
            }
        },
        {
            "cell_type": "code",
            "source": [
                "$SqlInstance = \"localhost\\sql17\";\r\n",
                "$DatabaseName = \"IMDB\"\r\n",
                "Get-DbaDbBackupHistory -SqlInstance $SqlInstance -Database $DatabaseName;"
            ],
            "metadata": {
                "azdata_cell_guid": "96dcc132-ee30-4746-94ce-dbae275931a1",
                "tags": [
                    "hide_input"
                ]
            },
            "outputs": [],
            "execution_count": null
        },
        {
            "cell_type": "markdown",
            "source": [
                "### Recent Backups"
            ],
            "metadata": {
                "azdata_cell_guid": "2eeb42a1-34c7-46ad-8396-f037ef96ae15"
            }
        },
        {
            "cell_type": "code",
            "source": [
                "$SqlInstance = \"localhost\\Sql17\";\r\n",
                "Get-DbaDbBackupHistory -SqlInstance $SqlInstance -IncludeCopyOnly -Since (Get-Date).AddDays(-2) -DeviceType Disk | Sort-Object -property Start;"
            ],
            "metadata": {
                "azdata_cell_guid": "6ac71aba-3ea4-486f-85e5-4abc17afea76",
                "tags": [
                    "hide_input"
                ]
            },
            "outputs": [],
            "execution_count": null
        },
        {
            "cell_type": "markdown",
            "source": [
                "# Ad hoc Backups"
            ],
            "metadata": {
                "azdata_cell_guid": "71fd262a-309c-4dba-8ea0-6c3d6f6d2f34"
            }
        },
        {
            "cell_type": "code",
            "source": [
                "$Sql17 = \"localhost\\sql17\";\r\n",
                "Get-DbaDefaultPath -SqlInstance $Sql17;\r\n",
                "$BackupParameters = @{\r\n",
                "    SqlInstance = $Sql17;\r\n",
                "    Type = \"Full\";\r\n",
                "    Database = \"imdb\";\r\n",
                "    CopyOnly = $true;\r\n",
                "    CompressBackup = $true;\r\n",
                "\r\n",
                "}\r\n",
                "Backup-DbaDatabase @BackupParameters;"
            ],
            "metadata": {
                "azdata_cell_guid": "788abc2e-1d47-4ae0-9549-cc952858f9c0",
                "tags": [
                    "hide_input"
                ]
            },
            "outputs": [],
            "execution_count": null
        },
        {
            "cell_type": "markdown",
            "source": [
                "### Automated Backups"
            ],
            "metadata": {
                "azdata_cell_guid": "61d9b831-5fc1-4c93-b0d2-d4ba6e3e1bbb"
            }
        },
        {
            "cell_type": "code",
            "source": [
                "Install-DbaMaintenanceSolution -SqlInstance localhost\\sql17 -Solution All -Database DBAThings -CleanupTime 97 -InstallJobs -ReplaceExisting -LogToTable;\r\n",
                "\r\n",
                "\r\n",
                "Backup-DbaDatabase -SqlInstance localhost\\sql17 -Type Full"
            ],
            "metadata": {
                "azdata_cell_guid": "43a69d3f-7fef-4d4f-9843-05897ea661ac",
                "tags": [
                    "hide_input"
                ]
            },
            "outputs": [],
            "execution_count": null
        }
    ]
}