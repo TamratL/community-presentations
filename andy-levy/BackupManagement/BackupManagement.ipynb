{
    "metadata": {
        "kernelspec": {
            "name": "powershell",
            "display_name": "PowerShell"
        },
        "language_info": {
            "name": "powershell",
            "codemirror_mode": "shell",
            "mimetype": "text/x-sh",
            "file_extension": ".ps1"
        }
    },
    "nbformat_minor": 2,
    "nbformat": 4,
    "cells": [
        {
            "cell_type": "markdown",
            "source": [
                "# We've Got You Covered - Backup Management with dbatools\r\n",
                "## Abstract\r\n",
                "Every database administrator needs to deal with backups - scheduled, ad-hoc, restoring, testing, and managing them. dbatools provides a rich set of functionality for managing all of this, without having to write a lot of T-SQL or dig through layers upon layers of dialog boxes in Manaagement Studio.\r\n",
                "## About Me\r\n",
                "| At Work |At Home|\r\n",
                "|---------|-------|\r\n",
                "|Production DBA|Thing 1 |\r\n",
                "|Development DBA|Thing 2 |\r\n",
                "|Web Developer|Thing 3 |\r\n",
                "|Web Server Administrator|Thing 4 |\r\n",
                "|Systems Integration|Thing 5 |\r\n",
                "\r\n",
                "## Why Backups?\r\n",
                "Well...duh\r\n",
                "## Why dbatools?\r\n",
                "* Automation is survival\r\n",
                "* Scripts = Communication\r\n",
                "  * You can't put mouse clicks in source control\r\n",
                "\r\n",
                "## Installation & Maintenance\r\n",
                "\r\n",
                "\r\n",
                "\r\n",
                ""
            ],
            "metadata": {
                "azdata_cell_guid": "91047590-bba3-47e5-9f4f-47d45aaa5b8c"
            }
        },
        {
            "cell_type": "code",
            "source": [
                "Install-Module -Name dbatools -Scope CurrentUser;\r\n",
                "Update-Module -Name dbatools;"
            ],
            "metadata": {
                "azdata_cell_guid": "6409d9f1-32e5-4c3c-95e9-8bd7be46335d",
                "tags": []
            },
            "outputs": [],
            "execution_count": 0
        },
        {
            "cell_type": "markdown",
            "source": [
                "## How Do You Like to Back Up?\r\n",
                "* Native or 3rd-Party?\r\n",
                "* Ola Hallengren's Maintenance Solution?\r\n",
                "* Custom Jobs?\r\n",
                "* Ad-hoc?"
            ],
            "metadata": {
                "azdata_cell_guid": "71fd262a-309c-4dba-8ea0-6c3d6f6d2f34"
            }
        },
        {
            "cell_type": "code",
            "source": [
                "Install-DbaMaintenanceSolution -SqlInstance localhost\\sql17 -Solution\r\n",
                "Backup-DbaDatabase -SqlInstance localhost\\sql17 -Type Full"
            ],
            "metadata": {
                "azdata_cell_guid": "43a69d3f-7fef-4d4f-9843-05897ea661ac"
            },
            "outputs": [],
            "execution_count": 0
        }
    ]
}