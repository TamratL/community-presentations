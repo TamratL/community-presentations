{
    "metadata": {
        "kernelspec": {
            "name": "powershell",
            "display_name": "PowerShell",
            "language": "powershell"
        },
        "language_info": {
            "name": "powershell",
            "codemirror_mode": "shell",
            "mimetype": "text/x-sh",
            "file_extension": ".ps1"
        }
    },
    "nbformat_minor": 2,
    "nbformat": 4,
    "cells": [
        {
            "cell_type": "markdown",
            "source": [
                "# Installation & Maintenance\r\n",
                "\r\n",
                "\r\n",
                "\r\n",
                ""
            ],
            "metadata": {
                "azdata_cell_guid": "91047590-bba3-47e5-9f4f-47d45aaa5b8c"
            }
        },
        {
            "cell_type": "markdown",
            "source": [
                "## Trust the PSGallery Repository"
            ],
            "metadata": {
                "azdata_cell_guid": "0593a802-1c3f-495e-8e5d-4f5df05bf31e"
            }
        },
        {
            "cell_type": "code",
            "source": [
                "Set-PSRepository -name PSGallery -InstallationPolicy Trusted"
            ],
            "metadata": {
                "azdata_cell_guid": "914d8371-5852-4fb8-a9c8-61612a87b32e",
                "tags": []
            },
            "outputs": [],
            "execution_count": null
        },
        {
            "cell_type": "markdown",
            "source": [
                "## Install or Update"
            ],
            "metadata": {
                "azdata_cell_guid": "d9fad2bb-e45a-4e36-9792-06004288c4cb"
            }
        },
        {
            "cell_type": "code",
            "source": [
                "if (-not (Get-Module -ListAvailable -Name dbatools)) {\r\n",
                "    Write-Output \"dbatools is missing, let's install!\"\r\n",
                "    Install-Module -Name dbatools -Scope CurrentUser;\r\n",
                "    Write-Output \"dbatools is installed\";\r\n",
                "} else {\r\n",
                "    Write-Output \"You're already in the club, let's get you updated.\"\r\n",
                "    Update-Module -Name dbatools;\r\n",
                "    Write-Output \"dbatools is up to date\";\r\n",
                "}"
            ],
            "metadata": {
                "azdata_cell_guid": "6409d9f1-32e5-4c3c-95e9-8bd7be46335d",
                "tags": []
            },
            "outputs": [],
            "execution_count": null
        },
        {
            "cell_type": "markdown",
            "source": [
                "# Global Variables"
            ],
            "metadata": {
                "azdata_cell_guid": "eb56db18-a829-43ae-ac8d-5bade9b21e83"
            }
        },
        {
            "cell_type": "code",
            "source": [
                "$Sql17 = \"flexo\\Sql17\";\r\n",
                "$Sql19 = \"flexo\\Sql19\";"
            ],
            "metadata": {
                "azdata_cell_guid": "137838f7-a835-4cfc-8f2c-a0140af0b842",
                "tags": []
            },
            "outputs": [],
            "execution_count": null
        },
        {
            "cell_type": "markdown",
            "source": [
                "# Backup & Restore\r\n",
                "## Basic Backup"
            ],
            "metadata": {
                "azdata_cell_guid": "3067a3d7-c409-47ad-a848-6f8ab9038569"
            }
        },
        {
            "cell_type": "code",
            "source": [
                "$BackupPath = \"C:\\SQL\\Backup\\\";\r\n",
                "$BackupParams = @{\r\n",
                "    SqlInstance = $Sql17;\r\n",
                "    Path = $BackupPath;\r\n",
                "    Database = \"Satellites\";\r\n",
                "    CreateFolder = $true;\r\n",
                "}\r\n",
                "$BackupResult = Backup-DbaDatabase @BackupParams;\r\n",
                "$BackupResult | Format-List -Property *;\r\n",
                "# Save this for later\r\n",
                "$SingleBackupFile = $BackupResult.BackupPath;\r\n",
                "Get-ChildItem $BackupPath | Format-Table -AutoSize;\r\n",
                "Get-ChildItem \"C:\\SQL\\Backup\\Satellites\" -Recurse | Sort-Object -Property LastWriteTime -Descending;"
            ],
            "metadata": {
                "azdata_cell_guid": "f4bc6d1f-f3e6-4791-ab7f-880609d377cc",
                "tags": []
            },
            "outputs": [],
            "execution_count": null
        },
        {
            "cell_type": "markdown",
            "source": [
                "## More Advanced\n",
                "\n",
                "- Copy-only\n",
                "- Multiple files\n",
                "- Compression\n",
                "- Checksum & Verify\n",
                "- Custom timestamp format\n",
                "- Adjust MaxTransferSize and BufferCount\n",
                "\n",
                "See <a href=\"https://sirsql.net/2012/12/13/20121212automated-backup-tuning/\" data-href=\"https://sirsql.net/2012/12/13/20121212automated-backup-tuning/\" title=\"https://sirsql.net/2012/12/13/20121212automated-backup-tuning/\">https://sirsql.net/2012/12/13/20121212automated-backup-tuning/</a> for scripts to test your own backup performance"
            ],
            "metadata": {
                "azdata_cell_guid": "7dd35c2a-794a-41d1-8dda-607edbfc4d1e"
            }
        },
        {
            "cell_type": "code",
            "source": [
                "$BackupParams = @{\r\n",
                "    SqlInstance = $Sql17;\r\n",
                "    Path = $BackupPath;\r\n",
                "    Database = \"Satellites\";\r\n",
                "    CreateFolder = $true;\r\n",
                "    CopyOnly = $true;\r\n",
                "    Type = \"Full\";\r\n",
                "    FileCount =  7;\r\n",
                "    CompressBackup = $true;\r\n",
                "    Checksum = $true;\r\n",
                "    Verify = $true;\r\n",
                "    BufferCount = 1000;\r\n",
                "    MaxTransfersize=65536;\r\n",
                "    TimeStampFormat = \"yyyy-MMM-dd HH.mm.ss\";\r\n",
                "}\r\n",
                "$BackupResult = Backup-DbaDatabase @BackupParams;\r\n",
                "$BackupResult | Format-List -Property *;\r\n",
                "Get-ChildItem -Path \"C:\\SQL\\Backup\\Satellites\" -Recurse | Sort-Object -Property LastWriteTime -Descending;\r\n",
                ""
            ],
            "metadata": {
                "azdata_cell_guid": "817f5239-03b9-48f1-9e8b-468539e2b8f3",
                "tags": []
            },
            "outputs": [],
            "execution_count": null
        },
        {
            "cell_type": "markdown",
            "source": [
                "## Just Looking!"
            ],
            "metadata": {
                "azdata_cell_guid": "58336bae-6a2a-4284-9166-5f782e6216a5"
            }
        },
        {
            "cell_type": "code",
            "source": [
                "$BackupParams = @{\r\n",
                "    SqlInstance = $Sql17;\r\n",
                "    Path = $BackupPath;\r\n",
                "    Database = \"Satellites\";\r\n",
                "    CreateFolder = $true;\r\n",
                "    CopyOnly = $true;\r\n",
                "    Type = \"Full\";\r\n",
                "    FileCount =  7;\r\n",
                "    CompressBackup = $true;\r\n",
                "    Checksum = $true;\r\n",
                "    Verify=$true;\r\n",
                "    BufferCount =1000;\r\n",
                "    MaxTransfersize=65536;\r\n",
                "    OutputScriptOnly = $true;\r\n",
                "}\r\n",
                "Backup-DbaDatabase @BackupParams;"
            ],
            "metadata": {
                "azdata_cell_guid": "15bb37e2-86d1-4746-b0b2-b4f983e755af",
                "tags": []
            },
            "outputs": [],
            "execution_count": null
        },
        {
            "cell_type": "markdown",
            "source": [
                "## Restoring the Latest Backup"
            ],
            "metadata": {
                "azdata_cell_guid": "da3d7942-5f86-495c-a974-e5f8f85d519d"
            }
        },
        {
            "cell_type": "code",
            "source": [
                "$RestoreParams = @{\r\n",
                "    SqlInstance = $Sql19;\r\n",
                "    Path = \"C:\\SQL\\Backup\\Satellites\";\r\n",
                "    Database = \"Satellites19\";\r\n",
                "}\r\n",
                "$RestoreResult = Restore-DbaDatabase @RestoreParams;\r\n",
                "$RestoreResult | Format-List -Property *;"
            ],
            "metadata": {
                "azdata_cell_guid": "4fba3a08-9741-4190-a136-2ebfebf7ebd5",
                "tags": []
            },
            "outputs": [],
            "execution_count": null
        },
        {
            "cell_type": "markdown",
            "source": [
                "## Restoring a Specific Backup"
            ],
            "metadata": {
                "azdata_cell_guid": "07619172-8e32-4920-b6fa-c26a3fcdb25d"
            }
        },
        {
            "cell_type": "code",
            "source": [
                "$RestoreParams = @{\r\n",
                "    SqlInstance = $Sql19;\r\n",
                "    Path = $SingleBackupFile;\r\n",
                "    Database = \"Satellites19\";\r\n",
                "    WithReplace = $true;\r\n",
                "}\r\n",
                "$RestoreResult = Restore-DbaDatabase @RestoreParams;\r\n",
                "$RestoreResult | Format-List -Property *;\r\n",
                "Set-DbaDatabaseOwner -SqlInstance $Sql19 -database Satellites19 -TargetLogin sa;"
            ],
            "metadata": {
                "azdata_cell_guid": "d6aa1305-baa3-4c2d-8345-08c5809fd8d1",
                "tags": []
            },
            "outputs": [],
            "execution_count": null
        },
        {
            "cell_type": "markdown",
            "source": [
                "## Just Looking (again)!\n",
                "\n",
                "Maybe I'm just looking to learn how to construct a <code>RESTORE DATABASE</code> SQL statement. Other times, I just want to review the statement before it's executed."
            ],
            "metadata": {
                "azdata_cell_guid": "33be2775-8d66-41cd-86c9-03c6706f5c9d"
            }
        },
        {
            "cell_type": "code",
            "source": [
                "$RestoreParams = @{\r\n",
                "    SqlInstance = $Sql19;\r\n",
                "    Path = \"c:\\SQL\\Backup\\Satellites\"\r\n",
                "    Database = \"Satellites19\";\r\n",
                "    WithReplace = $true;\r\n",
                "    OutputScriptOnly = $true;\r\n",
                "}\r\n",
                "Restore-DbaDatabase @RestoreParams;"
            ],
            "metadata": {
                "azdata_cell_guid": "c9e2100e-7542-4af2-aea8-d92836e14610",
                "tags": []
            },
            "outputs": [],
            "execution_count": null
        },
        {
            "cell_type": "markdown",
            "source": [
                "# Basic Backup Information\r\n",
                "* Where do backups go?\r\n",
                "* Do we have backups?\r\n",
                "* Do they get compressed?"
            ],
            "metadata": {
                "azdata_cell_guid": "98514257-ad41-4573-b6b7-c6957dbbc808"
            }
        },
        {
            "cell_type": "code",
            "source": [
                "Get-DbaDefaultPath -SqlInstance $Sql17;"
            ],
            "metadata": {
                "azdata_cell_guid": "39fc6c3c-9f04-4313-baa4-e467f9b7fc42",
                "tags": []
            },
            "outputs": [],
            "execution_count": null
        },
        {
            "cell_type": "markdown",
            "source": [
                "### Check & Set Backup Compression"
            ],
            "metadata": {
                "azdata_cell_guid": "413c9d69-0e0f-4611-aa90-661067a6bf71"
            }
        },
        {
            "cell_type": "code",
            "source": [
                "Get-DbaSpConfigure -SqlInstance $Sql17 -Name DefaultBackupCompression;"
            ],
            "metadata": {
                "azdata_cell_guid": "1a7e3b8f-8272-4ff7-b9c7-b4f73e0d2ebd",
                "tags": []
            },
            "outputs": [],
            "execution_count": null
        },
        {
            "cell_type": "code",
            "source": [
                "Set-DbaSpConfigure -SqlInstance $Sql17 -Name DefaultBackupCompression -Value 1;"
            ],
            "metadata": {
                "azdata_cell_guid": "a4efb867-b119-47d7-b6ca-d016ff9d09c9",
                "tags": []
            },
            "outputs": [],
            "execution_count": null
        },
        {
            "cell_type": "markdown",
            "source": [
                "# Checking on Backups"
            ],
            "metadata": {
                "azdata_cell_guid": "28c3119b-42ba-4e6f-9b9a-54290ea51fe3"
            }
        },
        {
            "cell_type": "markdown",
            "source": [
                "## Last Backup of Each Database"
            ],
            "metadata": {
                "azdata_cell_guid": "4304e184-e97d-4930-8498-e8340c62c7d3"
            }
        },
        {
            "cell_type": "code",
            "source": [
                "Get-DbaLastBackup -SqlInstance $Sql17 | Format-Table -AutoSize;"
            ],
            "metadata": {
                "azdata_cell_guid": "479f42cb-b828-4f94-97e0-000eb689457e",
                "tags": []
            },
            "outputs": [],
            "execution_count": null
        },
        {
            "cell_type": "markdown",
            "source": [
                "## Backup History for One Database"
            ],
            "metadata": {
                "azdata_cell_guid": "f769d8e4-df4d-4085-8818-b04adba426f1"
            }
        },
        {
            "cell_type": "code",
            "source": [
                "Get-DbaDbBackupHistory -SqlInstance $Sql17 -Database Satellites;"
            ],
            "metadata": {
                "azdata_cell_guid": "96dcc132-ee30-4746-94ce-dbae275931a1",
                "tags": []
            },
            "outputs": [],
            "execution_count": null
        },
        {
            "cell_type": "markdown",
            "source": [
                "## Recent Backups"
            ],
            "metadata": {
                "azdata_cell_guid": "2eeb42a1-34c7-46ad-8396-f037ef96ae15"
            }
        },
        {
            "cell_type": "code",
            "source": [
                "$HistoryParams = @{\r\n",
                "    SqlInstance = $Sql17;\r\n",
                "    IncludeCopyOnly = $true;\r\n",
                "    Since = (Get-Date).AddDays(-7);\r\n",
                "    DeviceType = \"Disk\";\r\n",
                "}\r\n",
                "Get-DbaDbBackupHistory @HistoryParams | Sort-Object -Property Start | Format-Table -AutoSize;"
            ],
            "metadata": {
                "azdata_cell_guid": "6ac71aba-3ea4-486f-85e5-4abc17afea76",
                "tags": []
            },
            "outputs": [],
            "execution_count": null
        },
        {
            "cell_type": "markdown",
            "source": [
                "Let's send that to Excel instead"
            ],
            "metadata": {
                "azdata_cell_guid": "98aea2a0-0fb3-4a81-9888-78c57ed732ed"
            }
        },
        {
            "cell_type": "code",
            "source": [
                "$HistoryParams = @{\r\n",
                "    SqlInstance = $Sql17;\r\n",
                "    IncludeCopyOnly = $true;\r\n",
                "    Since = (Get-Date).AddDays(-7);\r\n",
                "    DeviceType = \"Disk\";\r\n",
                "}\r\n",
                "$BackupHistory = Get-DbaDbBackupHistory @HistoryParams;\r\n",
                "\r\n",
                "$ExcelParams = @{\r\n",
                "    Path = \"C:\\users\\andy\\documents\\BackupHistory.xlsx\";\r\n",
                "    AutoSize = $true;\r\n",
                "    FreezeTopRow = $true;\r\n",
                "    Show = $true;\r\n",
                "    ClearSheet = $true;\r\n",
                "    BoldTopRow = $true;\r\n",
                "    AutoFilter = $true;\r\n",
                "}\r\n",
                "$BackupHistory | Export-Excel @ExcelParams;"
            ],
            "metadata": {
                "azdata_cell_guid": "ae3f6f86-463e-4142-a1d8-e138ead3cfb4",
                "tags": []
            },
            "outputs": [],
            "execution_count": null
        },
        {
            "cell_type": "markdown",
            "source": [
                "### Automated Backups"
            ],
            "metadata": {
                "azdata_cell_guid": "61d9b831-5fc1-4c93-b0d2-d4ba6e3e1bbb"
            }
        },
        {
            "cell_type": "code",
            "source": [
                "$SqlInstance = \"localhost\\sql17\";\r\n",
                "Install-DbaMaintenanceSolution -SqlInstance $SqlInstance -Solution All -Database DBAThings -CleanupTime 97 -InstallJobs -ReplaceExisting -LogToTable;\r\n",
                "\r\n",
                "$EveryFiveMinutes = New-DbaAgentSchedule -SqlInstance $SqlInstance -Schedule \"Five Minutes\" -FrequencyType Daily -FrequencyInterval 1 -FrequencySubdayType Minutes -FrequencySubdayInterval 5 -Force;\r\n",
                "$EveryFifteenMinutes = New-DbaAgentSchedule -SqlInstance $SqlInstance -Schedule \"Five Minutes\" -FrequencyType Daily -FrequencyInterval 1 -FrequencySubdayType Minutes -FrequencySubdayInterval 15 -Force;\r\n",
                "\r\n",
                "Backup-DbaDatabase -SqlInstance localhost\\sql17 -Type Full"
            ],
            "metadata": {
                "azdata_cell_guid": "43a69d3f-7fef-4d4f-9843-05897ea661ac",
                "tags": []
            },
            "outputs": [],
            "execution_count": null
        },
        {
            "cell_type": "markdown",
            "source": [
                "# Reset Environment"
            ],
            "metadata": {
                "azdata_cell_guid": "3e89b212-1677-43ee-840c-32b2b6804aa6"
            }
        },
        {
            "cell_type": "code",
            "source": [
                "Set-DbaSpConfigure -SqlInstance $Sql17 -Name DefaultBackupCompression -Value 0;\r\n",
                "Remove-Item c:\\users\\andy\\documents\\BackupHistory.xlsx;\r\n",
                "Remove-Item -Force -recurse -confirm:$false \"C:\\SQL\\Backup\\Satellites\";\r\n",
                "Remove-DbaDatabase -sqlinstance $Sql19 -Databse Satellites19;"
            ],
            "metadata": {
                "azdata_cell_guid": "e891b500-d27e-4a59-a96d-5588d9504648",
                "tags": []
            },
            "outputs": [],
            "execution_count": null
        }
    ]
}