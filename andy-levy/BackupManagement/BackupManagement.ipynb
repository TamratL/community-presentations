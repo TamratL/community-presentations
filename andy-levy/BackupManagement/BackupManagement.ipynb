{
    "metadata": {
        "kernelspec": {
            "name": "powershell",
            "display_name": "PowerShell",
            "language": "powershell"
        },
        "language_info": {
            "name": "powershell",
            "codemirror_mode": "shell",
            "mimetype": "text/x-sh",
            "file_extension": ".ps1"
        }
    },
    "nbformat_minor": 2,
    "nbformat": 4,
    "cells": [
        {
            "cell_type": "markdown",
            "source": [
                "# Installation & Maintenance\r\n",
                "\r\n",
                "\r\n",
                "\r\n",
                ""
            ],
            "metadata": {
                "azdata_cell_guid": "91047590-bba3-47e5-9f4f-47d45aaa5b8c"
            }
        },
        {
            "cell_type": "markdown",
            "source": [
                "## Trust the PSGallery Repository"
            ],
            "metadata": {
                "azdata_cell_guid": "0593a802-1c3f-495e-8e5d-4f5df05bf31e"
            }
        },
        {
            "cell_type": "code",
            "source": [
                "Set-PSRepository -name PSGallery -InstallationPolicy Trusted"
            ],
            "metadata": {
                "azdata_cell_guid": "914d8371-5852-4fb8-a9c8-61612a87b32e",
                "tags": []
            },
            "outputs": [],
            "execution_count": null
        },
        {
            "cell_type": "markdown",
            "source": [
                "## Install or Update"
            ],
            "metadata": {
                "azdata_cell_guid": "d9fad2bb-e45a-4e36-9792-06004288c4cb"
            }
        },
        {
            "cell_type": "code",
            "source": [
                "if (Get-Module -ListAvailable -Name dbatools) {\r\n",
                "    Update-Module -Name dbatools;\r\n",
                "}\r\n",
                "else {\r\n",
                "    Install-Module -Name dbatools -Scope CurrentUser;\r\n",
                "}"
            ],
            "metadata": {
                "azdata_cell_guid": "6409d9f1-32e5-4c3c-95e9-8bd7be46335d",
                "tags": []
            },
            "outputs": [],
            "execution_count": null
        },
        {
            "cell_type": "markdown",
            "source": [
                "# Global Variables"
            ],
            "metadata": {
                "azdata_cell_guid": "eb56db18-a829-43ae-ac8d-5bade9b21e83"
            }
        },
        {
            "cell_type": "code",
            "source": [
                "$Sql17 = \"flexo\\Sql17\";\r\n",
                "$Sql19 = \"flexo\\Sql19\";"
            ],
            "metadata": {
                "azdata_cell_guid": "137838f7-a835-4cfc-8f2c-a0140af0b842",
                "tags": []
            },
            "outputs": [],
            "execution_count": null
        },
        {
            "cell_type": "markdown",
            "source": [
                "# Backup & Restore\r\n",
                "## Basic Backup\r\n",
                "\r\n",
                "**TODO:** about_splatting. Make a whole section about conventions, splatting, etc."
            ],
            "metadata": {
                "azdata_cell_guid": "3067a3d7-c409-47ad-a848-6f8ab9038569"
            }
        },
        {
            "cell_type": "code",
            "source": [
                "$BackupPath = \"C:\\SQL\\Backup\\\";\r\n",
                "$BackupParams = @{\r\n",
                "    SqlInstance  = $Sql17;\r\n",
                "    Path         = $BackupPath;\r\n",
                "    Database     = \"Satellites\";\r\n",
                "    CreateFolder = $true;\r\n",
                "}\r\n",
                "$BackupResult = Backup-DbaDatabase @BackupParams;\r\n",
                "$BackupResult | Format-List -Property *;\r\n",
                "# Save this for later\r\n",
                "$SingleBackupFile = $BackupResult.BackupPath;\r\n",
                "Get-ChildItem $BackupPath | Format-Table -AutoSize;\r\n",
                "Get-ChildItem \"C:\\SQL\\Backup\\Satellites\" -Recurse | Sort-Object -Property LastWriteTime -Descending;"
            ],
            "metadata": {
                "azdata_cell_guid": "f4bc6d1f-f3e6-4791-ab7f-880609d377cc",
                "tags": []
            },
            "outputs": [],
            "execution_count": null
        },
        {
            "cell_type": "markdown",
            "source": [
                "## More Advanced\n",
                "\n",
                "- Copy-only\n",
                "- Multiple files\n",
                "- Compression\n",
                "- Checksum & Verify\n",
                "- Custom timestamp format\n",
                "- Adjust `MaxTransferSize` and `BufferCount`\n",
                "\n",
                "See <a href=\"https://sirsql.net/2012/12/13/20121212automated-backup-tuning/\" data-href=\"https://sirsql.net/2012/12/13/20121212automated-backup-tuning/\" title=\"https://sirsql.net/2012/12/13/20121212automated-backup-tuning/\">https://sirsql.net/2012/12/13/20121212automated-backup-tuning/</a> for scripts to test your own backup performance"
            ],
            "metadata": {
                "azdata_cell_guid": "7dd35c2a-794a-41d1-8dda-607edbfc4d1e"
            }
        },
        {
            "cell_type": "code",
            "source": [
                "$BackupParams = @{\r\n",
                "    SqlInstance     = $Sql17;\r\n",
                "    Path            = $BackupPath;\r\n",
                "    Database        = \"Satellites\";\r\n",
                "    CreateFolder    = $true;\r\n",
                "    CopyOnly        = $true;\r\n",
                "    Type            = \"Full\";\r\n",
                "    FileCount       = 4;\r\n",
                "    CompressBackup  = $true;\r\n",
                "    Checksum        = $true;\r\n",
                "    Verify          = $true;\r\n",
                "    BufferCount     = 1000;\r\n",
                "    MaxTransfersize = 65536;\r\n",
                "    TimeStampFormat = \"yyyy-MMM-dd HH.mm.ss\";\r\n",
                "}\r\n",
                "$BackupResult = Backup-DbaDatabase @BackupParams;\r\n",
                "$BackupResult | Format-List -Property *;\r\n",
                "Get-ChildItem -Path \"C:\\SQL\\Backup\\Satellites\" -Recurse | Sort-Object -Property LastWriteTime -Descending;\r\n",
                ""
            ],
            "metadata": {
                "azdata_cell_guid": "817f5239-03b9-48f1-9e8b-468539e2b8f3",
                "tags": []
            },
            "outputs": [],
            "execution_count": null
        },
        {
            "cell_type": "markdown",
            "source": [
                "## What's Being Run?\n",
                "\n",
                "The `-OutputScriptOnly` switch parameter tells `Backup-DbaDatabase` to not perform the backup but instead show the T-SQL to execute the backup."
            ],
            "metadata": {
                "azdata_cell_guid": "58336bae-6a2a-4284-9166-5f782e6216a5"
            }
        },
        {
            "cell_type": "code",
            "source": [
                "$BackupParams = @{\r\n",
                "    SqlInstance      = $Sql17;\r\n",
                "    Path             = $BackupPath;\r\n",
                "    Database         = \"Satellites\";\r\n",
                "    CreateFolder     = $true;\r\n",
                "    CopyOnly         = $true;\r\n",
                "    Type             = \"Full\";\r\n",
                "    FileCount        = 4;\r\n",
                "    CompressBackup   = $true;\r\n",
                "    Checksum         = $true;\r\n",
                "    Verify           = $true;\r\n",
                "    BufferCount      = 1000;\r\n",
                "    MaxTransfersize  = 65536;\r\n",
                "    OutputScriptOnly = $true;\r\n",
                "}\r\n",
                "Backup-DbaDatabase @BackupParams;"
            ],
            "metadata": {
                "azdata_cell_guid": "15bb37e2-86d1-4746-b0b2-b4f983e755af",
                "tags": []
            },
            "outputs": [],
            "execution_count": null
        },
        {
            "cell_type": "markdown",
            "source": [
                "## Restoring the Latest Backup\r\n",
                "* The `-Path` parameter specifies a path to search for backups. If multiple backups are found, the most recent one will be used.\r\n",
                "* `-Database` is the name the database will have when restored, not the original name of the database when it was backed up."
            ],
            "metadata": {
                "azdata_cell_guid": "da3d7942-5f86-495c-a974-e5f8f85d519d"
            }
        },
        {
            "cell_type": "code",
            "source": [
                "$RestoreParams = @{\r\n",
                "    SqlInstance = $Sql19;\r\n",
                "    Path        = \"C:\\SQL\\Backup\\Satellites\";\r\n",
                "    Database    = \"Satellites19\";\r\n",
                "}\r\n",
                "$RestoreResult = Restore-DbaDatabase @RestoreParams;\r\n",
                "$RestoreResult | Format-List -Property *;"
            ],
            "metadata": {
                "azdata_cell_guid": "4fba3a08-9741-4190-a136-2ebfebf7ebd5",
                "tags": []
            },
            "outputs": [],
            "execution_count": null
        },
        {
            "cell_type": "markdown",
            "source": [
                "## Restoring a Specific Backup\n",
                "If the database name we're restoring to already exists, `-WithReplace` will overwrite it. **Use with caution!**"
            ],
            "metadata": {
                "azdata_cell_guid": "07619172-8e32-4920-b6fa-c26a3fcdb25d"
            }
        },
        {
            "cell_type": "code",
            "source": [
                "$RestoreParams = @{\r\n",
                "    SqlInstance = $Sql19;\r\n",
                "    Path        = $SingleBackupFile;\r\n",
                "    Database    = \"Satellites19\";\r\n",
                "    WithReplace = $true;\r\n",
                "}\r\n",
                "$RestoreResult = Restore-DbaDatabase @RestoreParams;\r\n",
                "$RestoreResult | Format-List -Property *;\r\n",
                "Set-DbaDbOwner -SqlInstance $Sql19 -database Satellites19 -TargetLogin sa -Verbose;"
            ],
            "metadata": {
                "azdata_cell_guid": "d6aa1305-baa3-4c2d-8345-08c5809fd8d1",
                "tags": []
            },
            "outputs": [],
            "execution_count": null
        },
        {
            "cell_type": "markdown",
            "source": [
                "## Just Looking (again)!\n",
                "\n",
                "Maybe I'm just looking to learn how to construct a `RESTORE DATABASE` SQL statement. Other times, I just want to review the statement before it's executed.\n",
                "\n",
                "The `-ReplaceDbNameInFile` renames the pysical files to match the database name when restored."
            ],
            "metadata": {
                "azdata_cell_guid": "33be2775-8d66-41cd-86c9-03c6706f5c9d"
            }
        },
        {
            "cell_type": "markdown",
            "source": [
                "TODO: Move this lower Who hasn't run a bad update, right? Let's adjust a Stack Overflow user's reputation."
            ],
            "metadata": {
                "azdata_cell_guid": "94c0e533-3bc8-40a9-958c-8a7fb1682b2b"
            }
        },
        {
            "cell_type": "code",
            "source": [
                "$RestoreParams = @{\r\n",
                "    SqlInstance      = $Sql19;\r\n",
                "    Path             = \"c:\\SQL\\Backup\\Satellites\"\r\n",
                "    Database         = \"Satellites19\";\r\n",
                "    WithReplace      = $true;\r\n",
                "    OutputScriptOnly = $true;\r\n",
                "    ReplaceDbNameInFile = $true;\r\n",
                "}\r\n",
                "Restore-DbaDatabase @RestoreParams;"
            ],
            "metadata": {
                "azdata_cell_guid": "c9e2100e-7542-4af2-aea8-d92836e14610",
                "tags": []
            },
            "outputs": [],
            "execution_count": null
        },
        {
            "cell_type": "markdown",
            "source": [
                "## Point In Time Restore\r\n",
                "Who hasn't run a bad update? Let's try adjusting a Stack Overflow user's reputation."
            ],
            "metadata": {
                "azdata_cell_guid": "9f977941-e6d5-4cef-aeaa-a67dcbb2721f"
            }
        },
        {
            "cell_type": "code",
            "source": [
                "$SOQueryParams = @{\r\n",
                "    SqlInstance = \"FLEXO\\sql17\";\r\n",
                "    Database = \"StackOverflow2010\";\r\n",
                "    Query = \"select getdate() AS [QueryDate],* from [Users] where [DisplayName] = 'user46185';\";\r\n",
                "}\r\n",
                "Invoke-DbaQuery @SOQueryParams;"
            ],
            "metadata": {
                "azdata_cell_guid": "b1ee8608-69e6-4d9e-8917-0197f8de2a43",
                "tags": []
            },
            "outputs": [],
            "execution_count": null
        },
        {
            "cell_type": "code",
            "source": [
                "$SOUpdateParams = @{\r\n",
                "    SqlInstance = \"FLEXO\\sql17\";\r\n",
                "    Database = \"StackOverflow2010\";\r\n",
                "    Query = \"update [Users] set [Reputation] = 200 where [DisplayName] = 'user461855';\";\r\n",
                "}\r\n",
                "Invoke-DbaQuery @SOUpdateParams ;"
            ],
            "metadata": {
                "azdata_cell_guid": "b8347faf-47c1-403b-8449-3c946f0f3429",
                "tags": []
            },
            "outputs": [],
            "execution_count": null
        },
        {
            "cell_type": "markdown",
            "source": [
                "Oops!"
            ],
            "metadata": {
                "azdata_cell_guid": "a5c8b911-d775-4c5e-874a-116af19474fc"
            }
        },
        {
            "cell_type": "code",
            "source": [
                "$SOQueryParams = @{\r\n",
                "    SqlInstance = \"FLEXO\\sql17\";\r\n",
                "    Database = \"StackOverflow2010\";\r\n",
                "    Query = \"select getdate() AS [QueryDate],* from [Users] where [DisplayName] in ('user46185','user461855');\";\r\n",
                "}\r\n",
                "Invoke-DbaQuery @SOQueryParams;"
            ],
            "metadata": {
                "azdata_cell_guid": "16f8a1d4-cac7-4adc-afeb-4f27527745fb",
                "tags": []
            },
            "outputs": [],
            "execution_count": null
        },
        {
            "cell_type": "markdown",
            "source": [
                "Let's restore the database so we can fix the data"
            ],
            "metadata": {
                "azdata_cell_guid": "ce169b74-832e-4a6d-9b73-43664a22ece5"
            }
        },
        {
            "cell_type": "code",
            "source": [
                "# Take a log backup so we have something to work with\r\n",
                "$BackupParams = @{\r\n",
                "    SqlInstance = \"FLEXO\\sql17\";\r\n",
                "    Type = \"Log\";\r\n",
                "    Database = \"StackOverflow2010\";\r\n",
                "    Path = 'C:\\sql\\Backup\\FLEXO$SQL17\\StackOverflow2010\\LOG';\r\n",
                "}\r\n",
                "Backup-Dbadatabase @BackupParams;\r\n",
                "\r\n",
                "# Restore to another database\r\n",
                "$RestoreParams = @{\r\n",
                "    SqlInstance = \"FLEXO\\sql17\";\r\n",
                "    Path = 'C:\\sql\\Backup\\FLEXO$SQL17\\StackOverflow2010\\';\r\n",
                "    DatabaseName = \"StackOverflow2010-Restored\";\r\n",
                "    RestoreTime = \"2020-12-26 10:46:34\";\r\n",
                "    MaintenanceSolutionBackup = $true;\r\n",
                "    ReplaceDbNameInFile = $true;\r\n",
                "}\r\n",
                "$RestoreResult = Restore-DbaDatabase @RestoreParams;\r\n",
                "$RestoreResult | Format-List -Property *;"
            ],
            "metadata": {
                "azdata_cell_guid": "b74b6a88-5908-4d6b-99c5-56f5607dab2f",
                "tags": []
            },
            "outputs": [],
            "execution_count": null
        },
        {
            "cell_type": "markdown",
            "source": [
                "Database is restored, let's verify the data is in the right state"
            ],
            "metadata": {
                "azdata_cell_guid": "e1397eec-7bbc-4791-8cd2-725a31e6e9c9"
            }
        },
        {
            "cell_type": "code",
            "source": [
                "$SOQueryParams = @{\r\n",
                "    SqlInstance = \"FLEXO\\sql17\";\r\n",
                "    Database = \"StackOverflow2010-Restored\";\r\n",
                "    Query = \"select getdate() AS [QueryDate],* from [Users] where [DisplayName] in ('user46185','user461855');\";\r\n",
                "}\r\n",
                "Invoke-DbaQuery @SOQueryParams;"
            ],
            "metadata": {
                "azdata_cell_guid": "5fe018dc-ac6d-4775-9157-74fe01f02a07",
                "tags": []
            },
            "outputs": [],
            "execution_count": null
        },
        {
            "cell_type": "markdown",
            "source": [
                "Data looks good in the restored database, so we'll fix things up (not shown), then remove the restored database. I'm using `-Confirm:$false` because the prompt won't work in Azure Data Studio."
            ],
            "metadata": {
                "azdata_cell_guid": "d2dba0f8-690b-4192-afbe-6d462a9cd6af"
            }
        },
        {
            "cell_type": "code",
            "source": [
                "Remove-DbaDatabase -SqlInstance FLEXO\\SQL17 -Database StackOverflow2010-Restored -Confirm:$false;"
            ],
            "metadata": {
                "azdata_cell_guid": "0eefb719-d11f-40b7-b42d-5ffc1aa5f523",
                "tags": []
            },
            "outputs": [],
            "execution_count": null
        },
        {
            "cell_type": "markdown",
            "source": [
                "# Basic Backup Setup\r\n",
                "* Where do backups go?\r\n",
                "* Do we have scheduled backups?\r\n",
                "* Do they get compressed?"
            ],
            "metadata": {
                "azdata_cell_guid": "98514257-ad41-4573-b6b7-c6957dbbc808"
            }
        },
        {
            "cell_type": "code",
            "source": [
                "Get-DbaDefaultPath -SqlInstance FLEXO\\Sql17;"
            ],
            "metadata": {
                "azdata_cell_guid": "39fc6c3c-9f04-4313-baa4-e467f9b7fc42",
                "tags": []
            },
            "outputs": [],
            "execution_count": null
        },
        {
            "cell_type": "markdown",
            "source": [
                "### Check & Set Backup Compression"
            ],
            "metadata": {
                "azdata_cell_guid": "413c9d69-0e0f-4611-aa90-661067a6bf71"
            }
        },
        {
            "cell_type": "code",
            "source": [
                "Get-DbaSpConfigure -SqlInstance FLEXO\\Sql17 -Name DefaultBackupCompression;"
            ],
            "metadata": {
                "azdata_cell_guid": "1a7e3b8f-8272-4ff7-b9c7-b4f73e0d2ebd",
                "tags": []
            },
            "outputs": [],
            "execution_count": null
        },
        {
            "cell_type": "code",
            "source": [
                "Set-DbaSpConfigure -SqlInstance FLEXO\\Sql17 -Name DefaultBackupCompression -Value 1;"
            ],
            "metadata": {
                "azdata_cell_guid": "a4efb867-b119-47d7-b6ca-d016ff9d09c9",
                "tags": []
            },
            "outputs": [],
            "execution_count": null
        },
        {
            "cell_type": "markdown",
            "source": [
                "# Scheduled Backups\n",
                "Manual backups are one thing, but we should be scheduling our backups to run regularly.\n",
                "\n",
                "dbatools makes it easy to install & schedule backups with [Ola Hallengren's Maintenance Solution](https://ola.hallengren.com/).\n",
                "\n",
                "## Installation\n",
                "`Install-DbaMaintenanceSolution` retrieves the latest version from Github _or_ can use a locally-stored copy.\n",
                "\n",
                "### Verifying Installation\n",
                "Ola's scripts get installed with a categoy of \"Database Maintenance\" so we can filter the list of installed jobs."
            ],
            "metadata": {
                "azdata_cell_guid": "b2b6fab4-da20-4466-b5b3-80dda2f9b972"
            }
        },
        {
            "cell_type": "markdown",
            "source": [
                "## Installation"
            ],
            "metadata": {
                "azdata_cell_guid": "c7b594fb-a354-410b-9468-c8b2c0406db5"
            }
        },
        {
            "cell_type": "code",
            "source": [
                "$InstallParams = @{\r\n",
                "    SqlInstance = \"FLEXO\\sql19\";\r\n",
                "    Solution    = \"Backup\";\r\n",
                "    Database    = \"DBAThings\";\r\n",
                "    CleanupTime = 25;\r\n",
                "    InstallJobs = $true;\r\n",
                "    LogToTable  = $true;\r\n",
                "    ReplaceExisting = $true;\r\n",
                "}\r\n",
                "Install-DbaMaintenanceSolution @InstallParams;"
            ],
            "metadata": {
                "azdata_cell_guid": "43a69d3f-7fef-4d4f-9843-05897ea661ac",
                "tags": []
            },
            "outputs": [],
            "execution_count": null
        },
        {
            "cell_type": "code",
            "source": [
                "Get-DbaAgentJob -SqlInstance FLEXO\\sql19 -Category \"Database Maintenance\" | Select-Object -Property Name;"
            ],
            "metadata": {
                "azdata_cell_guid": "fc7ab49e-2350-4647-af27-1d9af2024ad0",
                "tags": []
            },
            "outputs": [],
            "execution_count": null
        },
        {
            "cell_type": "markdown",
            "source": [
                "### Check job info\n",
                "\n",
                "Do the backup jobs have schedules assigned to them?"
            ],
            "metadata": {
                "azdata_cell_guid": "a9cd1e68-e96c-4637-b206-93adb267b11c"
            }
        },
        {
            "cell_type": "code",
            "source": [
                "$JobInfoParams = @{\r\n",
                "    SqlInstance = $Sql19;\r\n",
                "    Job         = @(\"DatabaseBackup - USER_DATABASES - Log\", \"DatabaseBackup - USER_DATABASES - Full\");\r\n",
                "}\r\n",
                "\r\n",
                "Get-DbaAgentJob  @JobInfoParams | select-object Name, @{n = \"ScheduleCount\"; e = { $_.JobSchedules.Count } }"
            ],
            "metadata": {
                "azdata_cell_guid": "e2119559-b10e-4a5f-a8f4-357ae6e4a111",
                "tags": []
            },
            "outputs": [],
            "execution_count": null
        },
        {
            "cell_type": "markdown",
            "source": [
                "### Scheduling\n",
                "\n",
                "Let's assign 5-minute and 15-minute schedules to our Log and Full backup jobs, respectively."
            ],
            "metadata": {
                "azdata_cell_guid": "16eb7abc-2eef-4fdd-9699-b483cbd0c5cf"
            }
        },
        {
            "cell_type": "code",
            "source": [
                "$FiveMinuteParams = @{\r\n",
                "    SqlInstance = \"FLEXO\\sql19\";\r\n",
                "    Schedule                = \"Five Minutes\";\r\n",
                "    FrequencyType           = \"Daily\";\r\n",
                "    FrequencyInterval       = 1;\r\n",
                "    FrequencySubdayInterval = 5;\r\n",
                "    FrequencySubdayType     = \"Minutes\";\r\n",
                "    Force                   = $true;\r\n",
                "}\r\n",
                "\r\n",
                "$FifteenMinuteParams = @{\r\n",
                "    SqlInstance = \"FLEXO\\sql19\";\r\n",
                "    Schedule                = \"Fifteen Minutes\";\r\n",
                "    FrequencyType           = \"Daily\";\r\n",
                "    FrequencyInterval       = 1;\r\n",
                "    FrequencySubdayInterval = 15;\r\n",
                "    FrequencySubdayType     = \"Minutes\";\r\n",
                "    Force                   = $true;\r\n",
                "}\r\n",
                "\r\n",
                "$EveryFiveMinutes = New-DbaAgentSchedule @FiveMinuteParams;\r\n",
                "$EveryFifteenMinutes = New-DbaAgentSchedule @FifteenMinuteParams;\r\n",
                "\r\n",
                "$FullBackupParams = @{\r\n",
                "    SqlInstance = \"FLEXO\\sql19\";\r\n",
                "    Job         = \"DatabaseBackup - USER_DATABASES - FULL\";\r\n",
                "    Schedule    = $EveryFifteenMinutes;\r\n",
                "}\r\n",
                "\r\n",
                "$LogBackupParams = @{\r\n",
                "    SqlInstance = \"FLEXO\\sql19\";\r\n",
                "    Job         = \"DatabaseBackup - USER_DATABASES - LOG\";\r\n",
                "    Schedule    = $EveryFiveMinutes;\r\n",
                "}\r\n",
                "\r\n",
                "Set-DbaAgentJob @FullBackupParams;\r\n",
                "Set-DbaAgentJob @LogBackupParams;\r\n",
                "Start-DbaAgentJob -SqlInstance $Sql19 -Job \"DatabaseBackup - USER_DATABASES - FULL\";"
            ],
            "metadata": {
                "azdata_cell_guid": "21af835c-f4d2-4ab9-be04-89d078744695",
                "tags": []
            },
            "outputs": [],
            "execution_count": null
        },
        {
            "cell_type": "markdown",
            "source": [
                "# Checking on Backups\n",
                "## Last Backup of Each Database\n",
                "\n",
                "`Get-DbaLastBackup` retrieves the most recent backup of each database."
            ],
            "metadata": {
                "azdata_cell_guid": "28c3119b-42ba-4e6f-9b9a-54290ea51fe3"
            }
        },
        {
            "cell_type": "markdown",
            "source": [
                "## Last Backup of Each Database"
            ],
            "metadata": {
                "azdata_cell_guid": "4304e184-e97d-4930-8498-e8340c62c7d3"
            }
        },
        {
            "cell_type": "code",
            "source": [
                "Get-DbaLastBackup -SqlInstance FLEXO\\sql17 | Format-Table -AutoSize;"
            ],
            "metadata": {
                "azdata_cell_guid": "479f42cb-b828-4f94-97e0-000eb689457e",
                "tags": []
            },
            "outputs": [],
            "execution_count": null
        },
        {
            "cell_type": "markdown",
            "source": [
                "## Backup History for One Database"
            ],
            "metadata": {
                "azdata_cell_guid": "f769d8e4-df4d-4085-8818-b04adba426f1"
            }
        },
        {
            "cell_type": "code",
            "source": [
                "Get-DbaDbBackupHistory -SqlInstance FLEXO\\sql17 -Database Satellites;"
            ],
            "metadata": {
                "azdata_cell_guid": "96dcc132-ee30-4746-94ce-dbae275931a1",
                "tags": []
            },
            "outputs": [],
            "execution_count": null
        },
        {
            "cell_type": "markdown",
            "source": [
                "## Recent Backups"
            ],
            "metadata": {
                "azdata_cell_guid": "2eeb42a1-34c7-46ad-8396-f037ef96ae15"
            }
        },
        {
            "cell_type": "code",
            "source": [
                "$HistoryParams = @{\r\n",
                "    SqlInstance     = FLEXO\\sql17;\r\n",
                "    IncludeCopyOnly = $true;\r\n",
                "    Since           = (Get-Date).AddDays(-3);\r\n",
                "    DeviceType      = \"Disk\";\r\n",
                "}\r\n",
                "Get-DbaDbBackupHistory @HistoryParams | Sort-Object -Property Start | Format-Table -AutoSize;"
            ],
            "metadata": {
                "azdata_cell_guid": "6ac71aba-3ea4-486f-85e5-4abc17afea76",
                "tags": []
            },
            "outputs": [],
            "execution_count": null
        },
        {
            "cell_type": "markdown",
            "source": [
                "### Let's send that to Excel instead"
            ],
            "metadata": {
                "azdata_cell_guid": "98aea2a0-0fb3-4a81-9888-78c57ed732ed"
            }
        },
        {
            "cell_type": "code",
            "source": [
                "$HistoryParams = @{\r\n",
                "    SqlInstance     = FLEXO\\sql17;\r\n",
                "    IncludeCopyOnly = $true;\r\n",
                "    Since           = (Get-Date).AddDays(-3);\r\n",
                "    DeviceType      = \"Disk\";\r\n",
                "}\r\n",
                "$BackupHistory = Get-DbaDbBackupHistory @HistoryParams;\r\n",
                "\r\n",
                "$ExcelParams = @{\r\n",
                "    Path         = \"C:\\users\\andy\\documents\\BackupHistory.xlsx\";\r\n",
                "    ClearSheet   = $true;\r\n",
                "    AutoSize     = $true;\r\n",
                "    FreezeTopRow = $true;\r\n",
                "    BoldTopRow   = $true;\r\n",
                "    AutoFilter   = $true;\r\n",
                "    Show         = $true;\r\n",
                "}\r\n",
                "$BackupHistory | Export-Excel @ExcelParams;"
            ],
            "metadata": {
                "azdata_cell_guid": "ae3f6f86-463e-4142-a1d8-e138ead3cfb4",
                "tags": []
            },
            "outputs": [],
            "execution_count": null
        },
        {
            "cell_type": "markdown",
            "source": [
                "## Backup Speed\r\n",
                "How fast are our backups?"
            ],
            "metadata": {
                "azdata_cell_guid": "46113093-bdfd-40b9-b83f-10aaa67d0414"
            }
        },
        {
            "cell_type": "code",
            "source": [
                "$ThroughputParams = @{\r\n",
                "    SqlInstance = $Sql17;\r\n",
                "}\r\n",
                "$MeasurementFields = @(\r\n",
                "     \"SqlInstance\"\r\n",
                "     ,\"Database\"\r\n",
                "     ,\"MaxBackupDate\"\r\n",
                "    ,\"AvgThroughput\"\r\n",
                "    ,\"AvgDuration\"\r\n",
                "    ,\"MinThroughput\"\r\n",
                "    ,\"MaxThroughput\"\r\n",
                "    ,\"BackupCount\"\r\n",
                ")\r\n",
                "Measure-DbaBackupThroughput @ThroughputParams | Select-object -Property $MeasurementFields | Format-Table -AutoSize;"
            ],
            "metadata": {
                "azdata_cell_guid": "b313801d-f80a-442d-94d0-c871714e8808",
                "tags": []
            },
            "outputs": [],
            "execution_count": null
        },
        {
            "cell_type": "markdown",
            "source": [
                "## Backup Integrity\r\n",
                "Backups don't mean much if they can't be restored, right? How can we test that we have good, usable backups of our databases?\r\n",
                "\r\n",
                "And then, how can we prove that we're doing it?"
            ],
            "metadata": {
                "azdata_cell_guid": "04611a04-e374-4cdb-9740-cf241c67b8b9"
            }
        },
        {
            "cell_type": "code",
            "source": [
                "$BackupTestParams = @{\r\n",
                "    SqlInstance = \"FLEXO\\sql17\";\r\n",
                "    Destination = \"FLEXO\\sql19\";\r\n",
                "    Database=@(\"DBAThings\",\"Geocaches\",\"StackOverflow2010\");\r\n",
                "}\r\n",
                "$BackupTestResults = Test-DbaLastBackup @BackupTestParams;\r\n",
                "$BackupTestResults;"
            ],
            "metadata": {
                "azdata_cell_guid": "c52905e9-96b6-43ae-8784-f2d452f3894e",
                "tags": []
            },
            "outputs": [],
            "execution_count": null
        },
        {
            "cell_type": "markdown",
            "source": [
                "### DBCC History to Table"
            ],
            "metadata": {
                "azdata_cell_guid": "c72d7eb2-96e5-4912-9e77-487719cca25c"
            }
        },
        {
            "cell_type": "code",
            "source": [
                "# Backup test results to table here\r\n",
                "#$BackupTestResults | Select-Object SourceServer,TestServer,Databasse,Size,RestoreResult,RbccResult,RestoreStart,RestoreElapsed,DbccStart,DbccElapsed, @{n=\"BackupDates\";e={$_.BackupDates -join \";\"}},@{n=\"BackupFiles\";e={$_.BackupFiles -join \";\"}}\r\n",
                "\r\n",
                "$BackupTestResults | Convertto-DbaDataTable | write-dbadatatable -sqlinstance flexo\\sql19 -database DBAThings -schema dbo -table BackupValidation -autocreatetable -usedynamicstringlength;"
            ],
            "metadata": {
                "azdata_cell_guid": "1fea2a6c-36e7-4493-8969-750d9b4fa1e6",
                "tags": []
            },
            "outputs": [],
            "execution_count": null
        },
        {
            "cell_type": "markdown",
            "source": [
                "The auditors are coming! Provide documentation!"
            ],
            "metadata": {
                "azdata_cell_guid": "f899cecb-a8bc-427d-b327-9beaedc86078"
            }
        },
        {
            "cell_type": "code",
            "source": [
                "$ExcelParams = @{\r\n",
                "    Path         = \"C:\\users\\andy\\documents\\BackupVerification.xlsx\";\r\n",
                "    ClearSheet   = $true;\r\n",
                "    AutoSize     = $true;\r\n",
                "    FreezeTopRow = $true;\r\n",
                "    BoldTopRow   = $true;\r\n",
                "    AutoFilter   = $true;\r\n",
                "    Show         = $true;\r\n",
                "}\r\n",
                "invoke-dbaquery -sqlinstance FLEXO\\sql19 -database DBAThings -query \"select * from BackupValidation\" |convertto-dbadatatable| Export-Excel @ExcelParams;"
            ],
            "metadata": {
                "azdata_cell_guid": "419f8fb3-b3e6-46be-a800-791020a122b7",
                "tags": []
            },
            "outputs": [],
            "execution_count": null
        },
        {
            "cell_type": "markdown",
            "source": [
                "# Preparing for the Worst\r\n",
                "\r\n",
                "`Export-DbaInstance`"
            ],
            "metadata": {
                "azdata_cell_guid": "6108f0a5-bd20-42fa-af3c-cdeb32904080"
            }
        },
        {
            "cell_type": "code",
            "source": [
                "Stuff here"
            ],
            "metadata": {
                "azdata_cell_guid": "7727daf2-baf7-49c6-95a1-c01194664806",
                "tags": []
            },
            "outputs": [],
            "execution_count": null
        },
        {
            "cell_type": "markdown",
            "source": [
                "# Reset Environment"
            ],
            "metadata": {
                "azdata_cell_guid": "3e89b212-1677-43ee-840c-32b2b6804aa6"
            }
        },
        {
            "cell_type": "code",
            "source": [
                "Set-DbaSpConfigure -SqlInstance FLEXO\\sql17 -Name DefaultBackupCompression -Value 0;\r\n",
                "Remove-Item c:\\users\\andy\\documents\\BackupHistory.xlsx;\r\n",
                "Remove-Item -Force -recurse -confirm:$false \"C:\\SQL\\Backup\\Satellites\";\r\n",
                "Remove-DbaDatabase -SqlInstance FLEXO\\sql19 -Database Satellites19 -Confirm:$false;\r\n",
                "Remove-DbaDatabase -SqlInstance FLEXO\\sql17 -Database StackOverflow2010-Restored -Confirm:$false;\r\n",
                "Restore-DbaDatabase -SqlInstance FLEXO\\sql17 -DatabaseName StackOverflow2010 -ReplaceDbNameInFile -WithReplace -Path C:\\Datasets\\StackOverflow2010.bak;\r\n",
                "# Remove Ola jobs from flexo\\sql19\r\n",
                "Get-DbaAgentJob -SqlInstance FLEXO\\sql19 -Category \"Database Maintenance\" | Remove-DbaAgentJob;\r\n",
                "(Get-DbaDbTable -SqlInstance flexo\\sql19 -database dbathings|?{$_.name -in @(\"BackupValidation\",\"CommandLog\")}).DropIfExists();"
            ],
            "metadata": {
                "azdata_cell_guid": "e891b500-d27e-4a59-a96d-5588d9504648",
                "tags": []
            },
            "outputs": [],
            "execution_count": null
        }
    ]
}